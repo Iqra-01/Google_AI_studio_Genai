{
  "cells": [
    {
      "cell_type": "markdown",
      "metadata": {
        "id": "view-in-github",
        "colab_type": "text"
      },
      "source": [
        "<a href=\"https://colab.research.google.com/github/Iqra-01/Google_AI_studio_Genai/blob/main/templates/recipe_to_json.ipynb\" target=\"_parent\"><img src=\"https://colab.research.google.com/assets/colab-badge.svg\" alt=\"Open In Colab\"/></a>"
      ]
    },
    {
      "cell_type": "markdown",
      "metadata": {
        "id": "Tce3stUlHN0L"
      },
      "source": [
        "##### Copyright 2023 Google LLC"
      ]
    },
    {
      "cell_type": "code",
      "execution_count": null,
      "metadata": {
        "cellView": "form",
        "id": "tuOe1ymfHZPu"
      },
      "outputs": [],
      "source": [
        "# @title Licensed under the Apache License, Version 2.0 (the \"License\");\n",
        "# you may not use this file except in compliance with the License.\n",
        "# You may obtain a copy of the License at\n",
        "#\n",
        "# https://www.apache.org/licenses/LICENSE-2.0\n",
        "#\n",
        "# Unless required by applicable law or agreed to in writing, software\n",
        "# distributed under the License is distributed on an \"AS IS\" BASIS,\n",
        "# WITHOUT WARRANTIES OR CONDITIONS OF ANY KIND, either express or implied.\n",
        "# See the License for the specific language governing permissions and\n",
        "# limitations under the License."
      ]
    },
    {
      "cell_type": "markdown",
      "metadata": {
        "id": "FKwyTRdwB8aW"
      },
      "source": [
        "## Setup"
      ]
    },
    {
      "cell_type": "code",
      "execution_count": 1,
      "metadata": {
        "id": "RXInneX6xx7c"
      },
      "outputs": [],
      "source": [
        "!pip install -U -q \"google-generativeai>=0.8.2\""
      ]
    },
    {
      "cell_type": "code",
      "execution_count": 3,
      "metadata": {
        "id": "kWIuwKG2_oWE",
        "colab": {
          "base_uri": "https://localhost:8080/"
        },
        "outputId": "d919d3ba-e981-4e60-9639-8a600ae2d50b"
      },
      "outputs": [
        {
          "output_type": "stream",
          "name": "stdout",
          "text": [
            "Uploading: https://www.gstatic.com/aistudio/sample-images/croissant.jpg\n",
            "[\n",
            "    {\n",
            "        \"role\": \"user\",\n",
            "        \"parts\": [\n",
            "            {\n",
            "                \"file_data\": {\n",
            "                    \"mime_type\": \"image/jpeg\",\n",
            "                    \"file_uri\": \"https://generativelanguage.googleapis.com/v1beta/files/sj1lu6zstwry\"\n",
            "                }\n",
            "            },\n",
            "            {\n",
            "                \"text\": \"Given this image:\\\\n\\\\n1. First, describe the image\\\\n2. Then, detail the recipe to bake this item in JSON format. Include item names and quantities for the recipe\"\n",
            "            }\n",
            "        ]\n",
            "    },\n",
            "    {\n",
            "        \"role\": \"model\",\n",
            "        \"parts\": [\n",
            "            {\n",
            "                \"text\": \"The image shows a basket full of freshly baked croissants. They are golden brown and flaky, and some of them have a slightly burnt edge. They are piled high in the basket, and some of them are overlapping. The background is blurred, but it appears to be a kitchen counter or table.\\\\n\\\\n{\\\\n  \\\\\\\"title\\\\\\\": \\\\\\\"Croissants\\\\\\\",\\\\n  \\\\\\\"ingredients\\\\\\\": [\\\\n    {\\\\n      \\\\\\\"name\\\\\\\": \\\\\\\"All-purpose flour\\\\\\\",\\\\n      \\\\\\\"quantity\\\\\\\": \\\\\\\"500g\\\\\\\"\\\\n    },\\\\n    {\\\\n      \\\\\\\"name\\\\\\\": \\\\\\\"Salt\\\\\\\",\\\\n      \\\\\\\"quantity\\\\\\\": \\\\\\\"10g\\\\\\\"\\\\n    },\\\\n    {\\\\n      \\\\\\\"name\\\\\\\": \\\\\\\"Sugar\\\\\\\",\\\\n      \\\\\\\"quantity\\\\\\\": \\\\\\\"20g\\\\\\\"\\\\n    },\\\\n    {\\\\n      \\\\\\\"name\\\\\\\": \\\\\\\"Instant yeast\\\\\\\",\\\\n      \\\\\\\"quantity\\\\\\\": \\\\\\\"7g\\\\\\\"\\\\n    },\\\\n    {\\\\n      \\\\\\\"name\\\\\\\": \\\\\\\"Unsalted butter\\\\\\\",\\\\n      \\\\\\\"quantity\\\\\\\": \\\\\\\"250g\\\\\\\"\\\\n    },\\\\n    {\\\\n      \\\\\\\"name\\\\\\\": \\\\\\\"Milk\\\\\\\",\\\\n      \\\\\\\"quantity\\\\\\\": \\\\\\\"250ml\\\\\\\"\\\\n    },\\\\n    {\\\\n      \\\\\\\"name\\\\\\\": \\\\\\\"Egg yolk\\\\\\\",\\\\n      \\\\\\\"quantity\\\\\\\": \\\\\\\"1\\\\\\\"\\\\n    }\\\\n  ],\\\\n  \\\\\\\"instructions\\\\\\\": [\\\\n    \\\\\\\"In a large bowl, combine the flour, salt, sugar, and yeast.\\\\\\\",\\\\n    \\\\\\\"Add the milk and mix until a dough forms.\\\\\\\",\\\\n    \\\\\\\"Knead the dough for 10 minutes, until it is smooth and elastic.\\\\\\\",\\\\n    \\\\\\\"Place the dough in a greased bowl, cover, and let it rise in a warm place for 1 hour.\\\\\\\",\\\\n    \\\\\\\"Roll out the dough into a rectangle about 1/4 inch thick.\\\\\\\",\\\\n    \\\\\\\"Spread the softened butter evenly over the dough.\\\\\\\",\\\\n    \\\\\\\"Fold the dough in thirds, like a letter.\\\\\\\",\\\\n    \\\\\\\"Wrap the dough in plastic wrap and refrigerate for 30 minutes.\\\\\\\",\\\\n    \\\\\\\"Repeat steps 7 and 8 two more times.\\\\\\\",\\\\n    \\\\\\\"Roll out the dough into a rectangle about 1/2 inch thick.\\\\\\\",\\\\n    \\\\\\\"Cut the dough into triangles.\\\\\\\",\\\\n    \\\\\\\"Roll up each triangle, starting from the wide end.\\\\\\\",\\\\n    \\\\\\\"Place the croissants on a baking sheet lined with parchment paper.\\\\\\\",\\\\n    \\\\\\\"Cover and let them rise for 1 hour.\\\\\\\",\\\\n    \\\\\\\"Brush the croissants with egg yolk and bake at 375 degrees Fahrenheit for 15-20 minutes, or until golden brown.\\\\\\\"\\\\n  ],\\\\n  \\\\\\\"notes\\\\\\\": \\\\\\\"You can use a stand mixer with a dough hook to knead the dough. Make sure the butter is softened to room temperature before spreading it on the dough. The croissants will rise best in a warm place, like a turned-off oven with a bowl of hot water inside.\\\\\\\"\\\\n}\"\n",
            "            }\n",
            "        ]\n",
            "    },\n",
            "    {\n",
            "        \"role\": \"user\",\n",
            "        \"parts\": [\n",
            "            {\n",
            "                \"text\": \"recipe of biryani i json format\"\n",
            "            }\n",
            "        ]\n",
            "    },\n",
            "    {\n",
            "        \"role\": \"model\",\n",
            "        \"parts\": [\n",
            "            {\n",
            "                \"text\": \"```json\\\\n{\\\\n  \\\\\\\"title\\\\\\\": \\\\\\\"Chicken Biryani\\\\\\\",\\\\n  \\\\\\\"ingredients\\\\\\\": [\\\\n    {\\\\n      \\\\\\\"name\\\\\\\": \\\\\\\"Chicken\\\\\\\",\\\\n      \\\\\\\"quantity\\\\\\\": \\\\\\\"1 kg\\\\\\\",\\\\n      \\\\\\\"notes\\\\\\\": \\\\\\\"Cut into bite-sized pieces\\\\\\\"\\\\n    },\\\\n    {\\\\n      \\\\\\\"name\\\\\\\": \\\\\\\"Basmati rice\\\\\\\",\\\\n      \\\\\\\"quantity\\\\\\\": \\\\\\\"2 cups\\\\\\\",\\\\n      \\\\\\\"notes\\\\\\\": \\\\\\\"Soaked in water for 30 minutes\\\\\\\"\\\\n    },\\\\n    {\\\\n      \\\\\\\"name\\\\\\\": \\\\\\\"Onion\\\\\\\",\\\\n      \\\\\\\"quantity\\\\\\\": \\\\\\\"2\\\\\\\",\\\\n      \\\\\\\"notes\\\\\\\": \\\\\\\"Sliced\\\\\\\"\\\\n    },\\\\n    {\\\\n      \\\\\\\"name\\\\\\\": \\\\\\\"Tomato\\\\\\\",\\\\n      \\\\\\\"quantity\\\\\\\": \\\\\\\"2\\\\\\\",\\\\n      \\\\\\\"notes\\\\\\\": \\\\\\\"Pureed\\\\\\\"\\\\n    },\\\\n    {\\\\n      \\\\\\\"name\\\\\\\": \\\\\\\"Ginger-garlic paste\\\\\\\",\\\\n      \\\\\\\"quantity\\\\\\\": \\\\\\\"2 tbsp\\\\\\\"\\\\n    },\\\\n    {\\\\n      \\\\\\\"name\\\\\\\": \\\\\\\"Green chilies\\\\\\\",\\\\n      \\\\\\\"quantity\\\\\\\": \\\\\\\"4-5\\\\\\\",\\\\n      \\\\\\\"notes\\\\\\\": \\\\\\\"Slit\\\\\\\"\\\\n    },\\\\n    {\\\\n      \\\\\\\"name\\\\\\\": \\\\\\\"Yogurt\\\\\\\",\\\\n      \\\\\\\"quantity\\\\\\\": \\\\\\\"1 cup\\\\\\\"\\\\n    },\\\\n    {\\\\n      \\\\\\\"name\\\\\\\": \\\\\\\"Ghee\\\\\\\",\\\\n      \\\\\\\"quantity\\\\\\\": \\\\\\\"1/2 cup\\\\\\\"\\\\n    },\\\\n    {\\\\n      \\\\\\\"name\\\\\\\": \\\\\\\"Oil\\\\\\\",\\\\n      \\\\\\\"quantity\\\\\\\": \\\\\\\"2 tbsp\\\\\\\"\\\\n    },\\\\n    {\\\\n      \\\\\\\"name\\\\\\\": \\\\\\\"Bay leaf\\\\\\\",\\\\n      \\\\\\\"quantity\\\\\\\": \\\\\\\"2\\\\\\\"\\\\n    },\\\\n    {\\\\n      \\\\\\\"name\\\\\\\": \\\\\\\"Cinnamon stick\\\\\\\",\\\\n      \\\\\\\"quantity\\\\\\\": \\\\\\\"1\\\\\\\"\\\\n    },\\\\n    {\\\\n      \\\\\\\"name\\\\\\\": \\\\\\\"Cardamom pods\\\\\\\",\\\\n      \\\\\\\"quantity\\\\\\\": \\\\\\\"4\\\\\\\"\\\\n    },\\\\n    {\\\\n      \\\\\\\"name\\\\\\\": \\\\\\\"Cloves\\\\\\\",\\\\n      \\\\\\\"quantity\\\\\\\": \\\\\\\"4\\\\\\\"\\\\n    },\\\\n    {\\\\n      \\\\\\\"name\\\\\\\": \\\\\\\"Black peppercorns\\\\\\\",\\\\n      \\\\\\\"quantity\\\\\\\": \\\\\\\"1 tsp\\\\\\\"\\\\n    },\\\\n    {\\\\n      \\\\\\\"name\\\\\\\": \\\\\\\"Turmeric powder\\\\\\\",\\\\n      \\\\\\\"quantity\\\\\\\": \\\\\\\"1 tsp\\\\\\\"\\\\n    },\\\\n    {\\\\n      \\\\\\\"name\\\\\\\": \\\\\\\"Red chili powder\\\\\\\",\\\\n      \\\\\\\"quantity\\\\\\\": \\\\\\\"1 tsp\\\\\\\"\\\\n    },\\\\n    {\\\\n      \\\\\\\"name\\\\\\\": \\\\\\\"Cumin powder\\\\\\\",\\\\n      \\\\\\\"quantity\\\\\\\": \\\\\\\"1 tsp\\\\\\\"\\\\n    },\\\\n    {\\\\n      \\\\\\\"name\\\\\\\": \\\\\\\"Coriander powder\\\\\\\",\\\\n      \\\\\\\"quantity\\\\\\\": \\\\\\\"2 tsp\\\\\\\"\\\\n    },\\\\n    {\\\\n      \\\\\\\"name\\\\\\\": \\\\\\\"Salt\\\\\\\",\\\\n      \\\\\\\"quantity\\\\\\\": \\\\\\\"to taste\\\\\\\"\\\\n    },\\\\n    {\\\\n      \\\\\\\"name\\\\\\\": \\\\\\\"Fresh cilantro\\\\\\\",\\\\n      \\\\\\\"quantity\\\\\\\": \\\\\\\"1/2 cup\\\\\\\",\\\\n      \\\\\\\"notes\\\\\\\": \\\\\\\"Chopped for garnish\\\\\\\"\\\\n    }\\\\n  ],\\\\n  \\\\\\\"instructions\\\\\\\": [\\\\n    \\\\\\\"Marinate the chicken with yogurt, ginger-garlic paste, green chilies, turmeric powder, red chili powder, cumin powder, coriander powder, and salt. Let it marinate for at least 30 minutes.\\\\\\\",\\\\n    \\\\\\\"In a large pot, heat ghee and oil. Add bay leaf, cinnamon stick, cardamom pods, cloves, and black peppercorns. Once they start to splutter, add sliced onions and saut\\u00e9 until golden brown.\\\\\\\",\\\\n    \\\\\\\"Add the marinated chicken and cook until it turns white and is almost fully cooked.\\\\\\\",\\\\n    \\\\\\\"Add the tomato puree and cook until the oil separates from the masala.\\\\\\\",\\\\n    \\\\\\\"Add the soaked and drained basmati rice. Stir well and add 2.5 cups of water.\\\\\\\",\\\\n    \\\\\\\"Bring the mixture to a boil, then reduce heat to low, cover, and simmer for 15-20 minutes or until the rice is cooked.\\\\\\\",\\\\n    \\\\\\\"Once cooked, fluff the biryani with a fork and garnish with fresh cilantro.\\\\\\\",\\\\n    \\\\\\\"Serve hot with raita or salad.\\\\\\\"\\\\n  ]\\\\n}\\\\n```\"\n",
            "            }\n",
            "        ]\n",
            "    }\n",
            "]\n"
          ]
        }
      ],
      "source": [
        "# import necessary modules.\n",
        "import base64\n",
        "import copy\n",
        "import json\n",
        "import pathlib\n",
        "import requests\n",
        "\n",
        "\n",
        "import PIL.Image\n",
        "import IPython.display\n",
        "from IPython.display import Markdown\n",
        "\n",
        "try:\n",
        "    # The SDK will automatically read it from the GOOGLE_API_KEY environment variable.\n",
        "    # In Colab get the key from Colab-secrets (\"🔑\" in the left panel).\n",
        "    import os\n",
        "    from google.colab import userdata\n",
        "\n",
        "    os.environ[\"GOOGLE_API_KEY\"] = userdata.get(\"GOOGLE_API_KEY\")\n",
        "except ImportError:\n",
        "    pass\n",
        "\n",
        "import google.generativeai as genai\n",
        "\n",
        "# Parse the arguments\n",
        "\n",
        "model = 'gemini-1.5-flash' # @param {isTemplate: true}\n",
        "contents_b64 = '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' # @param {isTemplate: true}\n",
        "generation_config_b64 = 'eyJ0ZW1wZXJhdHVyZSI6MSwidG9wX3AiOjAuOTUsInRvcF9rIjo2NCwibWF4X291dHB1dF90b2tlbnMiOjgxOTJ9' # @param {isTemplate: true}\n",
        "safety_settings_b64 = \"e30=\"  # @param {isTemplate: true}\n",
        "\n",
        "gais_contents = json.loads(base64.b64decode(contents_b64))\n",
        "\n",
        "generation_config = json.loads(base64.b64decode(generation_config_b64))\n",
        "safety_settings = json.loads(base64.b64decode(safety_settings_b64))\n",
        "\n",
        "stream = False\n",
        "\n",
        "# Convert and upload the files\n",
        "\n",
        "tempfiles = pathlib.Path(f\"tempfiles\")\n",
        "tempfiles.mkdir(parents=True, exist_ok=True)\n",
        "\n",
        "\n",
        "drive = None\n",
        "def upload_file_data(file_data, index):\n",
        "    \"\"\"Upload files to the Files API.\n",
        "\n",
        "    For each file, Google AI Studio either sent:\n",
        "    - a Google Drive ID,\n",
        "    - a URL,\n",
        "    - a file path, or\n",
        "    - The raw bytes (`inline_data`).\n",
        "\n",
        "    The API only understands `inline_data` or it's Files API.\n",
        "    This code, uploads files to the files API where the API can access them.\n",
        "    \"\"\"\n",
        "\n",
        "    mime_type = file_data[\"mime_type\"]\n",
        "    if drive_id := file_data.pop(\"drive_id\", None):\n",
        "        if drive is None:\n",
        "          from google.colab import drive\n",
        "          drive.mount(\"/gdrive\")\n",
        "\n",
        "        path = next(\n",
        "            pathlib.Path(f\"/gdrive/.shortcut-targets-by-id/{drive_id}\").glob(\"*\")\n",
        "        )\n",
        "        print(\"Uploading:\", str(path))\n",
        "        file_info = genai.upload_file(path=path, mime_type=mime_type)\n",
        "        file_data[\"file_uri\"] = file_info.uri\n",
        "        return\n",
        "\n",
        "    if url := file_data.pop(\"url\", None):\n",
        "        response = requests.get(url)\n",
        "        data = response.content\n",
        "        name = url.split(\"/\")[-1]\n",
        "        path = tempfiles / str(index)\n",
        "        path.write_bytes(data)\n",
        "        print(\"Uploading:\", url)\n",
        "        file_info = genai.upload_file(path, display_name=name, mime_type=mime_type)\n",
        "        file_data[\"file_uri\"] = file_info.uri\n",
        "        return\n",
        "\n",
        "    if name := file_data.get(\"filename\", None):\n",
        "        if not pathlib.Path(name).exists():\n",
        "            raise IOError(\n",
        "                f\"local file: `{name}` does not exist. You can upload files \"\n",
        "                'to Colab using the file manager (\"📁 Files\" in the left '\n",
        "                \"toolbar)\"\n",
        "            )\n",
        "        file_info = genai.upload_file(path, display_name=name, mime_type=mime_type)\n",
        "        file_data[\"file_uri\"] = file_info.uri\n",
        "        return\n",
        "\n",
        "    if \"inline_data\" in file_data:\n",
        "        return\n",
        "\n",
        "    raise ValueError(\"Either `drive_id`, `url` or `inline_data` must be provided.\")\n",
        "\n",
        "\n",
        "contents = copy.deepcopy(gais_contents)\n",
        "\n",
        "index = 0\n",
        "for content in contents:\n",
        "    for n, part in enumerate(content[\"parts\"]):\n",
        "        if file_data := part.get(\"file_data\", None):\n",
        "            upload_file_data(file_data, index)\n",
        "            index += 1\n",
        "\n",
        "import json\n",
        "print(json.dumps(contents, indent=4))"
      ]
    },
    {
      "cell_type": "markdown",
      "metadata": {
        "id": "E7zAD69vE92b"
      },
      "source": [
        "## Call `generate_content`"
      ]
    },
    {
      "cell_type": "code",
      "execution_count": 4,
      "metadata": {
        "id": "LB2LxPmAB95V",
        "colab": {
          "base_uri": "https://localhost:8080/",
          "height": 81
        },
        "outputId": "bf8fcb4b-c76f-4933-81a3-e3b187a128d5"
      },
      "outputs": [
        {
          "output_type": "display_data",
          "data": {
            "text/plain": [
              "<IPython.core.display.Markdown object>"
            ],
            "text/markdown": "This recipe gives you a basic outline for making chicken biryani. Feel free to adjust the ingredients and spices to your taste. For example, you can add other vegetables like potatoes, carrots, or peas, or you can use a different type of meat, such as lamb or beef. You can also adjust the level of spice by adding more or less red chili powder or green chilies."
          },
          "metadata": {}
        }
      ],
      "source": [
        "from IPython.display import display\n",
        "from IPython.display import Markdown\n",
        "\n",
        "# Call the model and print the response.\n",
        "gemini = genai.GenerativeModel(model_name=model)\n",
        "\n",
        "response = gemini.generate_content(\n",
        "    contents,\n",
        "    generation_config=generation_config,\n",
        "    safety_settings=safety_settings,\n",
        "    stream=stream,\n",
        ")\n",
        "\n",
        "display(Markdown(response.text))"
      ]
    },
    {
      "cell_type": "markdown",
      "metadata": {
        "id": "9c9d345e9868"
      },
      "source": [
        "<table class=\"tfo-notebook-buttons\" align=\"left\">\n",
        "  <td>\n",
        "    <a target=\"_blank\" href=\"https://ai.google.dev/gemini-api/docs\"><img src=\"https://ai.google.dev/static/site-assets/images/docs/notebook-site-button.png\" height=\"32\" width=\"32\" />Docs on ai.google.dev</a>\n",
        "  </td>\n",
        "  <td>\n",
        "    <a target=\"_blank\" href=\"https://github.com/google-gemini/cookbook/blob/main/quickstarts\"><img src=\"https://www.tensorflow.org/images/GitHub-Mark-32px.png\" />More notebooks in the Cookbook</a>\n",
        "  </td>\n",
        "</table>"
      ]
    },
    {
      "cell_type": "markdown",
      "metadata": {
        "id": "F91AeeGO1ncU"
      },
      "source": [
        "## [optional] Show the conversation\n",
        "\n",
        "This section displays the conversation received from Google AI Studio."
      ]
    },
    {
      "cell_type": "code",
      "execution_count": 5,
      "metadata": {
        "id": "yoL3p3KPylFW",
        "colab": {
          "base_uri": "https://localhost:8080/",
          "height": 619
        },
        "outputId": "3d25c11f-9c24-4e7e-d58c-e6e20f598568"
      },
      "outputs": [
        {
          "output_type": "stream",
          "name": "stdout",
          "text": [
            "Role: user \n",
            "\n"
          ]
        },
        {
          "output_type": "display_data",
          "data": {
            "text/html": [
              "<img src=\"https://www.gstatic.com/aistudio/sample-images/croissant.jpg\" width=\"256\"/>"
            ],
            "text/plain": [
              "<IPython.core.display.Image object>"
            ]
          },
          "metadata": {}
        },
        {
          "output_type": "stream",
          "name": "stdout",
          "text": [
            "\n",
            "Given this image:\\n\\n1. First, describe the image\\n2. Then, detail the recipe to bake this item in JSON format. Include item names and quantities for the recipe \n",
            "\n",
            "-------------------------------------------------------------------------------- \n",
            "\n",
            "Role: model \n",
            "\n",
            "The image shows a basket full of freshly baked croissants. They are golden brown and flaky, and some of them have a slightly burnt edge. They are piled high in the basket, and some of them are overlapping. The background is blurred, but it appears to be a kitchen counter or table.\\n\\n{\\n  \\\"title\\\": \\\"Croissants\\\",\\n  \\\"ingredients\\\": [\\n    {\\n      \\\"name\\\": \\\"All-purpose flour\\\",\\n      \\\"quantity\\\": \\\"500g\\\"\\n    },\\n    {\\n      \\\"name\\\": \\\"Salt\\\",\\n      \\\"quantity\\\": \\\"10g\\\"\\n    },\\n    {\\n      \\\"name\\\": \\\"Sugar\\\",\\n      \\\"quantity\\\": \\\"20g\\\"\\n    },\\n    {\\n      \\\"name\\\": \\\"Instant yeast\\\",\\n      \\\"quantity\\\": \\\"7g\\\"\\n    },\\n    {\\n      \\\"name\\\": \\\"Unsalted butter\\\",\\n      \\\"quantity\\\": \\\"250g\\\"\\n    },\\n    {\\n      \\\"name\\\": \\\"Milk\\\",\\n      \\\"quantity\\\": \\\"250ml\\\"\\n    },\\n    {\\n      \\\"name\\\": \\\"Egg yolk\\\",\\n      \\\"quantity\\\": \\\"1\\\"\\n    }\\n  ],\\n  \\\"instructions\\\": [\\n    \\\"In a large bowl, combine the flour, salt, sugar, and yeast.\\\",\\n    \\\"Add the milk and mix until a dough forms.\\\",\\n    \\\"Knead the dough for 10 minutes, until it is smooth and elastic.\\\",\\n    \\\"Place the dough in a greased bowl, cover, and let it rise in a warm place for 1 hour.\\\",\\n    \\\"Roll out the dough into a rectangle about 1/4 inch thick.\\\",\\n    \\\"Spread the softened butter evenly over the dough.\\\",\\n    \\\"Fold the dough in thirds, like a letter.\\\",\\n    \\\"Wrap the dough in plastic wrap and refrigerate for 30 minutes.\\\",\\n    \\\"Repeat steps 7 and 8 two more times.\\\",\\n    \\\"Roll out the dough into a rectangle about 1/2 inch thick.\\\",\\n    \\\"Cut the dough into triangles.\\\",\\n    \\\"Roll up each triangle, starting from the wide end.\\\",\\n    \\\"Place the croissants on a baking sheet lined with parchment paper.\\\",\\n    \\\"Cover and let them rise for 1 hour.\\\",\\n    \\\"Brush the croissants with egg yolk and bake at 375 degrees Fahrenheit for 15-20 minutes, or until golden brown.\\\"\\n  ],\\n  \\\"notes\\\": \\\"You can use a stand mixer with a dough hook to knead the dough. Make sure the butter is softened to room temperature before spreading it on the dough. The croissants will rise best in a warm place, like a turned-off oven with a bowl of hot water inside.\\\"\\n} \n",
            "\n",
            "-------------------------------------------------------------------------------- \n",
            "\n",
            "Role: user \n",
            "\n",
            "recipe of biryani i json format \n",
            "\n",
            "-------------------------------------------------------------------------------- \n",
            "\n",
            "Role: model \n",
            "\n",
            "```json\\n{\\n  \\\"title\\\": \\\"Chicken Biryani\\\",\\n  \\\"ingredients\\\": [\\n    {\\n      \\\"name\\\": \\\"Chicken\\\",\\n      \\\"quantity\\\": \\\"1 kg\\\",\\n      \\\"notes\\\": \\\"Cut into bite-sized pieces\\\"\\n    },\\n    {\\n      \\\"name\\\": \\\"Basmati rice\\\",\\n      \\\"quantity\\\": \\\"2 cups\\\",\\n      \\\"notes\\\": \\\"Soaked in water for 30 minutes\\\"\\n    },\\n    {\\n      \\\"name\\\": \\\"Onion\\\",\\n      \\\"quantity\\\": \\\"2\\\",\\n      \\\"notes\\\": \\\"Sliced\\\"\\n    },\\n    {\\n      \\\"name\\\": \\\"Tomato\\\",\\n      \\\"quantity\\\": \\\"2\\\",\\n      \\\"notes\\\": \\\"Pureed\\\"\\n    },\\n    {\\n      \\\"name\\\": \\\"Ginger-garlic paste\\\",\\n      \\\"quantity\\\": \\\"2 tbsp\\\"\\n    },\\n    {\\n      \\\"name\\\": \\\"Green chilies\\\",\\n      \\\"quantity\\\": \\\"4-5\\\",\\n      \\\"notes\\\": \\\"Slit\\\"\\n    },\\n    {\\n      \\\"name\\\": \\\"Yogurt\\\",\\n      \\\"quantity\\\": \\\"1 cup\\\"\\n    },\\n    {\\n      \\\"name\\\": \\\"Ghee\\\",\\n      \\\"quantity\\\": \\\"1/2 cup\\\"\\n    },\\n    {\\n      \\\"name\\\": \\\"Oil\\\",\\n      \\\"quantity\\\": \\\"2 tbsp\\\"\\n    },\\n    {\\n      \\\"name\\\": \\\"Bay leaf\\\",\\n      \\\"quantity\\\": \\\"2\\\"\\n    },\\n    {\\n      \\\"name\\\": \\\"Cinnamon stick\\\",\\n      \\\"quantity\\\": \\\"1\\\"\\n    },\\n    {\\n      \\\"name\\\": \\\"Cardamom pods\\\",\\n      \\\"quantity\\\": \\\"4\\\"\\n    },\\n    {\\n      \\\"name\\\": \\\"Cloves\\\",\\n      \\\"quantity\\\": \\\"4\\\"\\n    },\\n    {\\n      \\\"name\\\": \\\"Black peppercorns\\\",\\n      \\\"quantity\\\": \\\"1 tsp\\\"\\n    },\\n    {\\n      \\\"name\\\": \\\"Turmeric powder\\\",\\n      \\\"quantity\\\": \\\"1 tsp\\\"\\n    },\\n    {\\n      \\\"name\\\": \\\"Red chili powder\\\",\\n      \\\"quantity\\\": \\\"1 tsp\\\"\\n    },\\n    {\\n      \\\"name\\\": \\\"Cumin powder\\\",\\n      \\\"quantity\\\": \\\"1 tsp\\\"\\n    },\\n    {\\n      \\\"name\\\": \\\"Coriander powder\\\",\\n      \\\"quantity\\\": \\\"2 tsp\\\"\\n    },\\n    {\\n      \\\"name\\\": \\\"Salt\\\",\\n      \\\"quantity\\\": \\\"to taste\\\"\\n    },\\n    {\\n      \\\"name\\\": \\\"Fresh cilantro\\\",\\n      \\\"quantity\\\": \\\"1/2 cup\\\",\\n      \\\"notes\\\": \\\"Chopped for garnish\\\"\\n    }\\n  ],\\n  \\\"instructions\\\": [\\n    \\\"Marinate the chicken with yogurt, ginger-garlic paste, green chilies, turmeric powder, red chili powder, cumin powder, coriander powder, and salt. Let it marinate for at least 30 minutes.\\\",\\n    \\\"In a large pot, heat ghee and oil. Add bay leaf, cinnamon stick, cardamom pods, cloves, and black peppercorns. Once they start to splutter, add sliced onions and sauté until golden brown.\\\",\\n    \\\"Add the marinated chicken and cook until it turns white and is almost fully cooked.\\\",\\n    \\\"Add the tomato puree and cook until the oil separates from the masala.\\\",\\n    \\\"Add the soaked and drained basmati rice. Stir well and add 2.5 cups of water.\\\",\\n    \\\"Bring the mixture to a boil, then reduce heat to low, cover, and simmer for 15-20 minutes or until the rice is cooked.\\\",\\n    \\\"Once cooked, fluff the biryani with a fork and garnish with fresh cilantro.\\\",\\n    \\\"Serve hot with raita or salad.\\\"\\n  ]\\n}\\n``` \n",
            "\n",
            "-------------------------------------------------------------------------------- \n",
            "\n"
          ]
        }
      ],
      "source": [
        "# @title Show the conversation, in colab.\n",
        "import mimetypes\n",
        "\n",
        "def show_file(file_data):\n",
        "    mime_type = file_data[\"mime_type\"]\n",
        "\n",
        "    if drive_id := file_data.get(\"drive_id\", None):\n",
        "        path = next(\n",
        "            pathlib.Path(f\"/gdrive/.shortcut-targets-by-id/{drive_id}\").glob(\"*\")\n",
        "        )\n",
        "        name = path\n",
        "        # data = path.read_bytes()\n",
        "        kwargs = {\"filename\": path}\n",
        "    elif url := file_data.get(\"url\", None):\n",
        "        name = url\n",
        "        kwargs = {\"url\": url}\n",
        "        # response = requests.get(url)\n",
        "        # data = response.content\n",
        "    elif data := file_data.get(\"inline_data\", None):\n",
        "        name = None\n",
        "        kwargs = {\"data\": data}\n",
        "    elif name := file_data.get(\"filename\", None):\n",
        "        if not pathlib.Path(name).exists():\n",
        "            raise IOError(\n",
        "                f\"local file: `{name}` does not exist. You can upload files to \"\n",
        "                'Colab using the file manager (\"📁 Files\"in the left toolbar)'\n",
        "            )\n",
        "    else:\n",
        "        raise ValueError(\"Either `drive_id`, `url` or `inline_data` must be provided.\")\n",
        "\n",
        "        print(f\"File:\\n    name: {name}\\n    mime_type: {mime_type}\\n\")\n",
        "        return\n",
        "\n",
        "    format = mimetypes.guess_extension(mime_type).strip(\".\")\n",
        "    if mime_type.startswith(\"image/\"):\n",
        "        image = IPython.display.Image(**kwargs, width=256)\n",
        "        IPython.display.display(image)\n",
        "        print()\n",
        "        return\n",
        "\n",
        "    if mime_type.startswith(\"audio/\"):\n",
        "        if len(data) < 2**12:\n",
        "            audio = IPython.display.Audio(**kwargs)\n",
        "            IPython.display.display(audio)\n",
        "            print()\n",
        "            return\n",
        "\n",
        "    if mime_type.startswith(\"video/\"):\n",
        "        if len(data) < 2**12:\n",
        "            audio = IPython.display.Video(**kwargs, mimetype=mime_type)\n",
        "            IPython.display.display(audio)\n",
        "            print()\n",
        "            return\n",
        "\n",
        "    print(f\"File:\\n    name: {name}\\n    mime_type: {mime_type}\\n\")\n",
        "\n",
        "\n",
        "for content in gais_contents:\n",
        "    if role := content.get(\"role\", None):\n",
        "        print(\"Role:\", role, \"\\n\")\n",
        "\n",
        "    for n, part in enumerate(content[\"parts\"]):\n",
        "        if text := part.get(\"text\", None):\n",
        "            print(text, \"\\n\")\n",
        "\n",
        "        elif file_data := part.get(\"file_data\", None):\n",
        "            show_file(file_data)\n",
        "\n",
        "    print(\"-\" * 80, \"\\n\")"
      ]
    }
  ],
  "metadata": {
    "colab": {
      "collapsed_sections": [
        "Tce3stUlHN0L"
      ],
      "name": "aistudio_gemini_prompt_freeform.ipynb",
      "toc_visible": true,
      "provenance": [],
      "include_colab_link": true
    },
    "kernelspec": {
      "display_name": "Python 3",
      "name": "python3"
    }
  },
  "nbformat": 4,
  "nbformat_minor": 0
}