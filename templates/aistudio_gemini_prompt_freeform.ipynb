{
  "cells": [
    {
      "cell_type": "markdown",
      "metadata": {
        "id": "view-in-github",
        "colab_type": "text"
      },
      "source": [
        "<a href=\"https://colab.research.google.com/github/Iqra-01/Google_AI_studio_Genai/blob/main/templates/aistudio_gemini_prompt_freeform.ipynb\" target=\"_parent\"><img src=\"https://colab.research.google.com/assets/colab-badge.svg\" alt=\"Open In Colab\"/></a>"
      ]
    },
    {
      "cell_type": "markdown",
      "metadata": {
        "id": "Tce3stUlHN0L"
      },
      "source": [
        "##### Copyright 2023 Google LLC"
      ]
    },
    {
      "cell_type": "code",
      "execution_count": null,
      "metadata": {
        "cellView": "form",
        "id": "tuOe1ymfHZPu"
      },
      "outputs": [],
      "source": [
        "# @title Licensed under the Apache License, Version 2.0 (the \"License\");\n",
        "# you may not use this file except in compliance with the License.\n",
        "# You may obtain a copy of the License at\n",
        "#\n",
        "# https://www.apache.org/licenses/LICENSE-2.0\n",
        "#\n",
        "# Unless required by applicable law or agreed to in writing, software\n",
        "# distributed under the License is distributed on an \"AS IS\" BASIS,\n",
        "# WITHOUT WARRANTIES OR CONDITIONS OF ANY KIND, either express or implied.\n",
        "# See the License for the specific language governing permissions and\n",
        "# limitations under the License."
      ]
    },
    {
      "cell_type": "markdown",
      "metadata": {
        "id": "FKwyTRdwB8aW"
      },
      "source": [
        "## Setup"
      ]
    },
    {
      "cell_type": "code",
      "execution_count": 1,
      "metadata": {
        "id": "RXInneX6xx7c"
      },
      "outputs": [],
      "source": [
        "!pip install -U -q \"google-generativeai>=0.8.2\""
      ]
    },
    {
      "cell_type": "code",
      "execution_count": 3,
      "metadata": {
        "id": "kWIuwKG2_oWE",
        "colab": {
          "base_uri": "https://localhost:8080/"
        },
        "outputId": "125ffdb5-5725-4800-964b-8d05496a7ae5"
      },
      "outputs": [
        {
          "output_type": "stream",
          "name": "stdout",
          "text": [
            "[\n",
            "    {\n",
            "        \"role\": \"user\",\n",
            "        \"parts\": [\n",
            "            {\n",
            "                \"text\": \"Teach me a lesson on quadratic equations. Assume I know absolutely nothing about it.\"\n",
            "            }\n",
            "        ]\n",
            "    },\n",
            "    {\n",
            "        \"role\": \"model\",\n",
            "        \"parts\": [\n",
            "            {\n",
            "                \"text\": \"## Quadratic Equations: A Beginner&#39;s Guide\\\\n\\\\nImagine you&#39;re throwing a ball up in the air. It goes up, reaches a peak, and then falls back down. The path it takes can be described by a **quadratic equation**. Let&#39;s explore what that means:\\\\n\\\\n**1. What is a Quadratic Equation?**\\\\n\\\\nIt&#39;s an equation that looks like this: **ax\\u00b2 + bx + c = 0**. Don&#39;t be intimidated by the symbols! Let&#39;s break it down:\\\\n\\\\n* **x**: This represents an unknown value, like the time it takes for the ball to reach the ground.\\\\n* **a, b, c**: These are numbers, like the initial speed of the ball, its starting height, and the effect of gravity.\\\\n* **\\u00b2**: This means &quot;squared,&quot; or multiplied by itself. For example, x\\u00b2 is the same as x times x.\\\\n\\\\n**2. Why are they called &quot;Quadratic&quot;?**\\\\n\\\\nThe word &quot;quadratic&quot; comes from &quot;quad,&quot; which means &quot;square.&quot; The highest power of x in the equation is 2, hence the name.\\\\n\\\\n**3. What do they tell us?**\\\\n\\\\nQuadratic equations help us solve problems where things change in a non-linear way, like the ball&#39;s trajectory. Solving the equation means finding the values of x that make the equation true. These values are called **roots** or **solutions**.\\\\n\\\\n**4. How do we solve them?**\\\\n\\\\nThere are different ways to solve quadratic equations:\\\\n\\\\n* **Factoring**: This involves rewriting the equation as a product of two simpler expressions.\\\\n* **Quadratic Formula**: This is a powerful formula that can solve any quadratic equation. It looks scary, but it&#39;s just a recipe for finding the roots.\\\\n* **Graphing**: You can plot the equation on a graph and see where it crosses the x-axis. Those points are the solutions.\\\\n\\\\n**5. Why are they important?**\\\\n\\\\nQuadratic equations have applications in various fields:\\\\n\\\\n* **Physics**: Calculating the motion of objects, like our ball example.\\\\n* **Engineering**: Designing bridges, buildings, and other structures.\\\\n* **Finance**: Predicting market trends and making investment decisions.\\\\n* **Computer Science**: Used in algorithms and computer graphics.\\\\n\\\\n**6. Let&#39;s see an example:**\\\\n\\\\nImagine the equation describing the ball&#39;s height is: **h = -5t\\u00b2 + 20t + 10**. Here, h is the height and t is the time. Solving this equation will tell us when the ball hits the ground (h = 0). We can use the quadratic formula or graph the equation to find the solutions.\\\\n\\\\nThis is just a basic introduction to quadratic equations. There&#39;s much more to learn, but hopefully, this gives you a starting point to explore further!\\\\n\"\n",
            "            }\n",
            "        ]\n",
            "    },\n",
            "    {\n",
            "        \"role\": \"user\",\n",
            "        \"parts\": [\n",
            "            {\n",
            "                \"text\": \"Give me an equation to solve and test my knowledge, Don't give answers just yet. \"\n",
            "            }\n",
            "        ]\n",
            "    },\n",
            "    {\n",
            "        \"role\": \"model\",\n",
            "        \"parts\": [\n",
            "            {\n",
            "                \"text\": \"**Solve the following quadratic equation:**\\\\n\\\\n**x\\u00b2 - 5x + 6 = 0**\\\\n\\\\nRemember, the solutions are the values of x that make the equation true. You can use any method you like, such as factoring, the quadratic formula, or graphing. Good luck! \\\\n\"\n",
            "            }\n",
            "        ]\n",
            "    },\n",
            "    {\n",
            "        \"role\": \"user\",\n",
            "        \"parts\": [\n",
            "            {\n",
            "                \"text\": \"x=0 and x=10\"\n",
            "            }\n",
            "        ]\n",
            "    },\n",
            "    {\n",
            "        \"role\": \"model\",\n",
            "        \"parts\": [\n",
            "            {\n",
            "                \"text\": \"Unfortunately, x = 0 and x = 10 are not solutions to the equation x\\u00b2 - 5x + 6 = 0. \\\\n\\\\nLet&#39;s check:\\\\n\\\\n* For x = 0: (0)\\u00b2 - 5(0) + 6 = 6 \\u2260 0\\\\n* For x = 10: (10)\\u00b2 - 5(10) + 6 = 56 \\u2260 0\\\\n\\\\nAs you can see, neither value makes the equation true. \\\\n\\\\nTry using another method like factoring or the quadratic formula to find the correct solutions. \\\\n\"\n",
            "            }\n",
            "        ]\n",
            "    },\n",
            "    {\n",
            "        \"role\": \"user\",\n",
            "        \"parts\": [\n",
            "            {\n",
            "                \"text\": \"Provide a detailed method to solve it\"\n",
            "            }\n",
            "        ]\n",
            "    },\n",
            "    {\n",
            "        \"role\": \"model\",\n",
            "        \"parts\": [\n",
            "            {\n",
            "                \"text\": \"## Solving x\\u00b2 - 5x + 6 = 0: A Step-by-Step Guide\\\\n\\\\nLet&#39;s solve this equation using two different methods: factoring and the quadratic formula.\\\\n\\\\n**Method 1: Factoring**\\\\n\\\\n1. **Identify the factors of the constant term (c) whose sum is the coefficient of the linear term (b).** \\\\n    * In this case, c = 6 and b = -5. \\\\n    * We need to find two numbers that multiply to 6 and add up to -5. These numbers are -2 and -3.\\\\n\\\\n2. **Rewrite the middle term using the identified factors.**\\\\n    * x\\u00b2 - 5x + 6 becomes x\\u00b2 - 2x - 3x + 6.\\\\n\\\\n3. **Group the terms and factor by grouping.**\\\\n    * (x\\u00b2 - 2x) + (-3x + 6)\\\\n    * x(x - 2) - 3(x - 2)\\\\n\\\\n4. **Factor out the common binomial.**\\\\n    * (x - 2)(x - 3)\\\\n\\\\n5. **Set each factor equal to zero and solve for x.**\\\\n    * x - 2 = 0 --&gt; x = 2\\\\n    * x - 3 = 0 --&gt; x = 3\\\\n\\\\nTherefore, the solutions to the equation are **x = 2 and x = 3**.\\\\n\\\\n**Method 2: Quadratic Formula**\\\\n\\\\nThe quadratic formula is a powerful tool that can solve any quadratic equation. It states:\\\\n\\\\n**x = (-b \\u00b1 \\u221a(b\\u00b2 - 4ac)) / (2a)**\\\\n\\\\nFor our equation, a = 1, b = -5, and c = 6. Plugging these values into the formula:\\\\n\\\\nx = (5 \\u00b1 \\u221a((-5)\\u00b2 - 4(1)(6))) / (2(1))\\\\nx = (5 \\u00b1 \\u221a(25 - 24)) / 2\\\\nx = (5 \\u00b1 1) / 2\\\\n\\\\nThis gives us two solutions:\\\\n\\\\n* x = (5 + 1) / 2 = 3\\\\n* x = (5 - 1) / 2 = 2\\\\n\\\\nAgain, the solutions are **x = 2 and x = 3**.\\\\n\\\\nBoth methods lead to the same solutions. You can choose whichever method you find more comfortable or efficient for the specific problem you&#39;re solving.\\\\n\"\n",
            "            }\n",
            "        ]\n",
            "    }\n",
            "]\n"
          ]
        }
      ],
      "source": [
        "# import necessary modules.\n",
        "import base64\n",
        "import copy\n",
        "import json\n",
        "import pathlib\n",
        "import requests\n",
        "\n",
        "\n",
        "import PIL.Image\n",
        "import IPython.display\n",
        "from IPython.display import Markdown\n",
        "\n",
        "try:\n",
        "    # The SDK will automatically read it from the GOOGLE_API_KEY environment variable.\n",
        "    # In Colab get the key from Colab-secrets (\"🔑\" in the left panel).\n",
        "    import os\n",
        "    from google.colab import userdata\n",
        "\n",
        "    os.environ[\"GOOGLE_API_KEY\"] = userdata.get(\"GOOGLE_API_KEY\")\n",
        "except ImportError:\n",
        "    pass\n",
        "\n",
        "import google.generativeai as genai\n",
        "\n",
        "# Parse the arguments\n",
        "\n",
        "model = 'gemini-1.5-flash' # @param {isTemplate: true}\n",
        "contents_b64 = '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' # @param {isTemplate: true}\n",
        "generation_config_b64 = 'eyJ0ZW1wZXJhdHVyZSI6MSwidG9wX3AiOjAuOTUsInRvcF9rIjo2NCwibWF4X291dHB1dF90b2tlbnMiOjgxOTJ9' # @param {isTemplate: true}\n",
        "safety_settings_b64 = \"e30=\"  # @param {isTemplate: true}\n",
        "\n",
        "gais_contents = json.loads(base64.b64decode(contents_b64))\n",
        "\n",
        "generation_config = json.loads(base64.b64decode(generation_config_b64))\n",
        "safety_settings = json.loads(base64.b64decode(safety_settings_b64))\n",
        "\n",
        "stream = False\n",
        "\n",
        "# Convert and upload the files\n",
        "\n",
        "tempfiles = pathlib.Path(f\"tempfiles\")\n",
        "tempfiles.mkdir(parents=True, exist_ok=True)\n",
        "\n",
        "\n",
        "drive = None\n",
        "def upload_file_data(file_data, index):\n",
        "    \"\"\"Upload files to the Files API.\n",
        "\n",
        "    For each file, Google AI Studio either sent:\n",
        "    - a Google Drive ID,\n",
        "    - a URL,\n",
        "    - a file path, or\n",
        "    - The raw bytes (`inline_data`).\n",
        "\n",
        "    The API only understands `inline_data` or it's Files API.\n",
        "    This code, uploads files to the files API where the API can access them.\n",
        "    \"\"\"\n",
        "\n",
        "    mime_type = file_data[\"mime_type\"]\n",
        "    if drive_id := file_data.pop(\"drive_id\", None):\n",
        "        if drive is None:\n",
        "          from google.colab import drive\n",
        "          drive.mount(\"/gdrive\")\n",
        "\n",
        "        path = next(\n",
        "            pathlib.Path(f\"/gdrive/.shortcut-targets-by-id/{drive_id}\").glob(\"*\")\n",
        "        )\n",
        "        print(\"Uploading:\", str(path))\n",
        "        file_info = genai.upload_file(path=path, mime_type=mime_type)\n",
        "        file_data[\"file_uri\"] = file_info.uri\n",
        "        return\n",
        "\n",
        "    if url := file_data.pop(\"url\", None):\n",
        "        response = requests.get(url)\n",
        "        data = response.content\n",
        "        name = url.split(\"/\")[-1]\n",
        "        path = tempfiles / str(index)\n",
        "        path.write_bytes(data)\n",
        "        print(\"Uploading:\", url)\n",
        "        file_info = genai.upload_file(path, display_name=name, mime_type=mime_type)\n",
        "        file_data[\"file_uri\"] = file_info.uri\n",
        "        return\n",
        "\n",
        "    if name := file_data.get(\"filename\", None):\n",
        "        if not pathlib.Path(name).exists():\n",
        "            raise IOError(\n",
        "                f\"local file: `{name}` does not exist. You can upload files \"\n",
        "                'to Colab using the file manager (\"📁 Files\" in the left '\n",
        "                \"toolbar)\"\n",
        "            )\n",
        "        file_info = genai.upload_file(path, display_name=name, mime_type=mime_type)\n",
        "        file_data[\"file_uri\"] = file_info.uri\n",
        "        return\n",
        "\n",
        "    if \"inline_data\" in file_data:\n",
        "        return\n",
        "\n",
        "    raise ValueError(\"Either `drive_id`, `url` or `inline_data` must be provided.\")\n",
        "\n",
        "\n",
        "contents = copy.deepcopy(gais_contents)\n",
        "\n",
        "index = 0\n",
        "for content in contents:\n",
        "    for n, part in enumerate(content[\"parts\"]):\n",
        "        if file_data := part.get(\"file_data\", None):\n",
        "            upload_file_data(file_data, index)\n",
        "            index += 1\n",
        "\n",
        "import json\n",
        "print(json.dumps(contents, indent=4))"
      ]
    },
    {
      "cell_type": "markdown",
      "metadata": {
        "id": "E7zAD69vE92b"
      },
      "source": [
        "## Call `generate_content`"
      ]
    },
    {
      "cell_type": "code",
      "execution_count": 6,
      "metadata": {
        "id": "LB2LxPmAB95V",
        "colab": {
          "base_uri": "https://localhost:8080/"
        },
        "outputId": "6626b98a-38c6-427b-b734-5cea608eb45d"
      },
      "outputs": [
        {
          "output_type": "stream",
          "name": "stdout",
          "text": [
            "Error: No candidates returned. The prompt may have been blocked.\n"
          ]
        }
      ],
      "source": [
        "from IPython.display import display\n",
        "from IPython.display import Markdown\n",
        "\n",
        "# Call the model and print the response.\n",
        "gemini = genai.GenerativeModel(model_name=model)\n",
        "\n",
        "response = gemini.generate_content(\n",
        "    contents,\n",
        "    generation_config=generation_config,\n",
        "    safety_settings=safety_settings,\n",
        "    stream=stream,\n",
        ")\n",
        "\n",
        "if response.candidates:\n",
        "    display(Markdown(response.text))\n",
        "else:\n",
        "    # Print prompt feedback if available to understand the blocking reason\n",
        "    if response.prompt_feedback:\n",
        "        print(f\"Prompt feedback: {response.prompt_feedback}\")\n",
        "    else:\n",
        "        print(\"Error: No candidates returned. The prompt may have been blocked.\")"
      ]
    },
    {
      "cell_type": "markdown",
      "metadata": {
        "id": "9c9d345e9868"
      },
      "source": [
        "<table class=\"tfo-notebook-buttons\" align=\"left\">\n",
        "  <td>\n",
        "    <a target=\"_blank\" href=\"https://ai.google.dev/gemini-api/docs\"><img src=\"https://ai.google.dev/static/site-assets/images/docs/notebook-site-button.png\" height=\"32\" width=\"32\" />Docs on ai.google.dev</a>\n",
        "  </td>\n",
        "  <td>\n",
        "    <a target=\"_blank\" href=\"https://github.com/google-gemini/cookbook/blob/main/quickstarts\"><img src=\"https://www.tensorflow.org/images/GitHub-Mark-32px.png\" />More notebooks in the Cookbook</a>\n",
        "  </td>\n",
        "</table>"
      ]
    },
    {
      "cell_type": "markdown",
      "metadata": {
        "id": "F91AeeGO1ncU"
      },
      "source": [
        "## [optional] Show the conversation\n",
        "\n",
        "This section displays the conversation received from Google AI Studio."
      ]
    },
    {
      "cell_type": "code",
      "execution_count": 7,
      "metadata": {
        "id": "yoL3p3KPylFW",
        "colab": {
          "base_uri": "https://localhost:8080/"
        },
        "outputId": "1271f2ac-58f5-4620-f186-ca0f40ccc825"
      },
      "outputs": [
        {
          "output_type": "stream",
          "name": "stdout",
          "text": [
            "Role: user \n",
            "\n",
            "Teach me a lesson on quadratic equations. Assume I know absolutely nothing about it. \n",
            "\n",
            "-------------------------------------------------------------------------------- \n",
            "\n",
            "Role: model \n",
            "\n",
            "## Quadratic Equations: A Beginner&#39;s Guide\\n\\nImagine you&#39;re throwing a ball up in the air. It goes up, reaches a peak, and then falls back down. The path it takes can be described by a **quadratic equation**. Let&#39;s explore what that means:\\n\\n**1. What is a Quadratic Equation?**\\n\\nIt&#39;s an equation that looks like this: **ax² + bx + c = 0**. Don&#39;t be intimidated by the symbols! Let&#39;s break it down:\\n\\n* **x**: This represents an unknown value, like the time it takes for the ball to reach the ground.\\n* **a, b, c**: These are numbers, like the initial speed of the ball, its starting height, and the effect of gravity.\\n* **²**: This means &quot;squared,&quot; or multiplied by itself. For example, x² is the same as x times x.\\n\\n**2. Why are they called &quot;Quadratic&quot;?**\\n\\nThe word &quot;quadratic&quot; comes from &quot;quad,&quot; which means &quot;square.&quot; The highest power of x in the equation is 2, hence the name.\\n\\n**3. What do they tell us?**\\n\\nQuadratic equations help us solve problems where things change in a non-linear way, like the ball&#39;s trajectory. Solving the equation means finding the values of x that make the equation true. These values are called **roots** or **solutions**.\\n\\n**4. How do we solve them?**\\n\\nThere are different ways to solve quadratic equations:\\n\\n* **Factoring**: This involves rewriting the equation as a product of two simpler expressions.\\n* **Quadratic Formula**: This is a powerful formula that can solve any quadratic equation. It looks scary, but it&#39;s just a recipe for finding the roots.\\n* **Graphing**: You can plot the equation on a graph and see where it crosses the x-axis. Those points are the solutions.\\n\\n**5. Why are they important?**\\n\\nQuadratic equations have applications in various fields:\\n\\n* **Physics**: Calculating the motion of objects, like our ball example.\\n* **Engineering**: Designing bridges, buildings, and other structures.\\n* **Finance**: Predicting market trends and making investment decisions.\\n* **Computer Science**: Used in algorithms and computer graphics.\\n\\n**6. Let&#39;s see an example:**\\n\\nImagine the equation describing the ball&#39;s height is: **h = -5t² + 20t + 10**. Here, h is the height and t is the time. Solving this equation will tell us when the ball hits the ground (h = 0). We can use the quadratic formula or graph the equation to find the solutions.\\n\\nThis is just a basic introduction to quadratic equations. There&#39;s much more to learn, but hopefully, this gives you a starting point to explore further!\\n \n",
            "\n",
            "-------------------------------------------------------------------------------- \n",
            "\n",
            "Role: user \n",
            "\n",
            "Give me an equation to solve and test my knowledge, Don't give answers just yet.  \n",
            "\n",
            "-------------------------------------------------------------------------------- \n",
            "\n",
            "Role: model \n",
            "\n",
            "**Solve the following quadratic equation:**\\n\\n**x² - 5x + 6 = 0**\\n\\nRemember, the solutions are the values of x that make the equation true. You can use any method you like, such as factoring, the quadratic formula, or graphing. Good luck! \\n \n",
            "\n",
            "-------------------------------------------------------------------------------- \n",
            "\n",
            "Role: user \n",
            "\n",
            "x=0 and x=10 \n",
            "\n",
            "-------------------------------------------------------------------------------- \n",
            "\n",
            "Role: model \n",
            "\n",
            "Unfortunately, x = 0 and x = 10 are not solutions to the equation x² - 5x + 6 = 0. \\n\\nLet&#39;s check:\\n\\n* For x = 0: (0)² - 5(0) + 6 = 6 ≠ 0\\n* For x = 10: (10)² - 5(10) + 6 = 56 ≠ 0\\n\\nAs you can see, neither value makes the equation true. \\n\\nTry using another method like factoring or the quadratic formula to find the correct solutions. \\n \n",
            "\n",
            "-------------------------------------------------------------------------------- \n",
            "\n",
            "Role: user \n",
            "\n",
            "Provide a detailed method to solve it \n",
            "\n",
            "-------------------------------------------------------------------------------- \n",
            "\n",
            "Role: model \n",
            "\n",
            "## Solving x² - 5x + 6 = 0: A Step-by-Step Guide\\n\\nLet&#39;s solve this equation using two different methods: factoring and the quadratic formula.\\n\\n**Method 1: Factoring**\\n\\n1. **Identify the factors of the constant term (c) whose sum is the coefficient of the linear term (b).** \\n    * In this case, c = 6 and b = -5. \\n    * We need to find two numbers that multiply to 6 and add up to -5. These numbers are -2 and -3.\\n\\n2. **Rewrite the middle term using the identified factors.**\\n    * x² - 5x + 6 becomes x² - 2x - 3x + 6.\\n\\n3. **Group the terms and factor by grouping.**\\n    * (x² - 2x) + (-3x + 6)\\n    * x(x - 2) - 3(x - 2)\\n\\n4. **Factor out the common binomial.**\\n    * (x - 2)(x - 3)\\n\\n5. **Set each factor equal to zero and solve for x.**\\n    * x - 2 = 0 --&gt; x = 2\\n    * x - 3 = 0 --&gt; x = 3\\n\\nTherefore, the solutions to the equation are **x = 2 and x = 3**.\\n\\n**Method 2: Quadratic Formula**\\n\\nThe quadratic formula is a powerful tool that can solve any quadratic equation. It states:\\n\\n**x = (-b ± √(b² - 4ac)) / (2a)**\\n\\nFor our equation, a = 1, b = -5, and c = 6. Plugging these values into the formula:\\n\\nx = (5 ± √((-5)² - 4(1)(6))) / (2(1))\\nx = (5 ± √(25 - 24)) / 2\\nx = (5 ± 1) / 2\\n\\nThis gives us two solutions:\\n\\n* x = (5 + 1) / 2 = 3\\n* x = (5 - 1) / 2 = 2\\n\\nAgain, the solutions are **x = 2 and x = 3**.\\n\\nBoth methods lead to the same solutions. You can choose whichever method you find more comfortable or efficient for the specific problem you&#39;re solving.\\n \n",
            "\n",
            "-------------------------------------------------------------------------------- \n",
            "\n"
          ]
        }
      ],
      "source": [
        "# @title Show the conversation, in colab.\n",
        "import mimetypes\n",
        "\n",
        "def show_file(file_data):\n",
        "    mime_type = file_data[\"mime_type\"]\n",
        "\n",
        "    if drive_id := file_data.get(\"drive_id\", None):\n",
        "        path = next(\n",
        "            pathlib.Path(f\"/gdrive/.shortcut-targets-by-id/{drive_id}\").glob(\"*\")\n",
        "        )\n",
        "        name = path\n",
        "        # data = path.read_bytes()\n",
        "        kwargs = {\"filename\": path}\n",
        "    elif url := file_data.get(\"url\", None):\n",
        "        name = url\n",
        "        kwargs = {\"url\": url}\n",
        "        # response = requests.get(url)\n",
        "        # data = response.content\n",
        "    elif data := file_data.get(\"inline_data\", None):\n",
        "        name = None\n",
        "        kwargs = {\"data\": data}\n",
        "    elif name := file_data.get(\"filename\", None):\n",
        "        if not pathlib.Path(name).exists():\n",
        "            raise IOError(\n",
        "                f\"local file: `{name}` does not exist. You can upload files to \"\n",
        "                'Colab using the file manager (\"📁 Files\"in the left toolbar)'\n",
        "            )\n",
        "    else:\n",
        "        raise ValueError(\"Either `drive_id`, `url` or `inline_data` must be provided.\")\n",
        "\n",
        "        print(f\"File:\\n    name: {name}\\n    mime_type: {mime_type}\\n\")\n",
        "        return\n",
        "\n",
        "    format = mimetypes.guess_extension(mime_type).strip(\".\")\n",
        "    if mime_type.startswith(\"image/\"):\n",
        "        image = IPython.display.Image(**kwargs, width=256)\n",
        "        IPython.display.display(image)\n",
        "        print()\n",
        "        return\n",
        "\n",
        "    if mime_type.startswith(\"audio/\"):\n",
        "        if len(data) < 2**12:\n",
        "            audio = IPython.display.Audio(**kwargs)\n",
        "            IPython.display.display(audio)\n",
        "            print()\n",
        "            return\n",
        "\n",
        "    if mime_type.startswith(\"video/\"):\n",
        "        if len(data) < 2**12:\n",
        "            audio = IPython.display.Video(**kwargs, mimetype=mime_type)\n",
        "            IPython.display.display(audio)\n",
        "            print()\n",
        "            return\n",
        "\n",
        "    print(f\"File:\\n    name: {name}\\n    mime_type: {mime_type}\\n\")\n",
        "\n",
        "\n",
        "for content in gais_contents:\n",
        "    if role := content.get(\"role\", None):\n",
        "        print(\"Role:\", role, \"\\n\")\n",
        "\n",
        "    for n, part in enumerate(content[\"parts\"]):\n",
        "        if text := part.get(\"text\", None):\n",
        "            print(text, \"\\n\")\n",
        "\n",
        "        elif file_data := part.get(\"file_data\", None):\n",
        "            show_file(file_data)\n",
        "\n",
        "    print(\"-\" * 80, \"\\n\")"
      ]
    }
  ],
  "metadata": {
    "colab": {
      "collapsed_sections": [
        "Tce3stUlHN0L"
      ],
      "name": "aistudio_gemini_prompt_freeform.ipynb",
      "provenance": [],
      "include_colab_link": true
    },
    "kernelspec": {
      "display_name": "Python 3",
      "name": "python3"
    }
  },
  "nbformat": 4,
  "nbformat_minor": 0
}