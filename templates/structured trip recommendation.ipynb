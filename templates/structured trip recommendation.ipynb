{
  "cells": [
    {
      "cell_type": "markdown",
      "metadata": {
        "id": "view-in-github",
        "colab_type": "text"
      },
      "source": [
        "<a href=\"https://colab.research.google.com/github/Iqra-01/Google_AI_studio_Genai/blob/main/templates/structured%20trip%20recommendation.ipynb\" target=\"_parent\"><img src=\"https://colab.research.google.com/assets/colab-badge.svg\" alt=\"Open In Colab\"/></a>"
      ]
    },
    {
      "cell_type": "markdown",
      "metadata": {
        "id": "Tce3stUlHN0L"
      },
      "source": [
        "##### Copyright 2023 Google LLC"
      ]
    },
    {
      "cell_type": "code",
      "execution_count": null,
      "metadata": {
        "cellView": "form",
        "id": "tuOe1ymfHZPu"
      },
      "outputs": [],
      "source": [
        "# @title Licensed under the Apache License, Version 2.0 (the \"License\");\n",
        "# you may not use this file except in compliance with the License.\n",
        "# You may obtain a copy of the License at\n",
        "#\n",
        "# https://www.apache.org/licenses/LICENSE-2.0\n",
        "#\n",
        "# Unless required by applicable law or agreed to in writing, software\n",
        "# distributed under the License is distributed on an \"AS IS\" BASIS,\n",
        "# WITHOUT WARRANTIES OR CONDITIONS OF ANY KIND, either express or implied.\n",
        "# See the License for the specific language governing permissions and\n",
        "# limitations under the License."
      ]
    },
    {
      "cell_type": "markdown",
      "metadata": {
        "id": "FKwyTRdwB8aW"
      },
      "source": [
        "## Setup"
      ]
    },
    {
      "cell_type": "code",
      "execution_count": 1,
      "metadata": {
        "id": "RXInneX6xx7c",
        "colab": {
          "base_uri": "https://localhost:8080/"
        },
        "outputId": "4d2b1abd-53b2-47d3-964b-bfab4a91a050"
      },
      "outputs": [
        {
          "output_type": "stream",
          "name": "stdout",
          "text": [
            "\u001b[?25l   \u001b[90m━━━━━━━━━━━━━━━━━━━━━━━━━━━━━━━━━━━━━━━━\u001b[0m \u001b[32m0.0/160.8 kB\u001b[0m \u001b[31m?\u001b[0m eta \u001b[36m-:--:--\u001b[0m\r\u001b[2K   \u001b[90m━━━━━━━━━━━━━━━━━━━━━━━━━━━━━━━━━━━━━━━━\u001b[0m \u001b[32m160.8/160.8 kB\u001b[0m \u001b[31m4.4 MB/s\u001b[0m eta \u001b[36m0:00:00\u001b[0m\n",
            "\u001b[?25h\u001b[?25l   \u001b[90m━━━━━━━━━━━━━━━━━━━━━━━━━━━━━━━━━━━━━━━━\u001b[0m \u001b[32m0.0/760.0 kB\u001b[0m \u001b[31m?\u001b[0m eta \u001b[36m-:--:--\u001b[0m\r\u001b[2K   \u001b[90m━━━━━━━━━━━━━━━━━━━━━━━━━━━━━━━━━━━━━━━━\u001b[0m \u001b[32m760.0/760.0 kB\u001b[0m \u001b[31m20.6 MB/s\u001b[0m eta \u001b[36m0:00:00\u001b[0m\n",
            "\u001b[?25h"
          ]
        }
      ],
      "source": [
        "!pip install -U -q \"google-generativeai>=0.8.2\""
      ]
    },
    {
      "cell_type": "code",
      "execution_count": 2,
      "metadata": {
        "cellView": "form",
        "id": "kWIuwKG2_oWE",
        "colab": {
          "base_uri": "https://localhost:8080/"
        },
        "outputId": "33481158-8c66-4f2f-b10b-3b15850daf90"
      },
      "outputs": [
        {
          "output_type": "stream",
          "name": "stdout",
          "text": [
            "[\n",
            "    {\n",
            "        \"role\": \"user\",\n",
            "        \"parts\": [\n",
            "            {\n",
            "                \"text\": \"Here is an article about exciting things to do in New York City. Convert this into a structured format with 3 columns - activity, best season to partake in this activity, and amount of time needed.\\\\n\\\\nNew York City vibrates with an irresistible energy that never sleeps, offering an abundance of experiences for every traveler! In the pleasant embrace of spring or the colorful tapestry of fall, dedicate a half or even a full day to exploring the sprawling expanse of Central Park. Take a leisurely bike ride, enjoy a picnic lunch, or rent a boat on the lake \\u2013 the possibilities for enjoyment are endless! Regardless of the season, art enthusiasts can immerse themselves in the vast collection of the Metropolitan Museum of Art, dedicating an afternoon to wander through centuries of human creativity.\\\\n\\\\nFor a dose of captivating entertainment, catch a world-renowned Broadway show, a three-hour journey into the heart of theater and music. Spring or fall offers the ideal weather for a ferry ride to the Statue of Liberty and Ellis Island, allowing for a half or full day to delve into the stories of immigration and freedom that shaped America. When the weather beckons you outdoors in the summer months, dedicate an hour to a stroll along the High Line, a unique elevated park offering breathtaking city views and urban gardens.\\\\n\\\\nAs dusk settles, head to the dazzling spectacle of Times Square, spending thirty minutes to an hour soaking in the vibrant lights and bustling energy. For a moment of reflection, visit the poignant 9/11 Memorial & Museum, dedicating two to three hours to honor the lives lost and the unwavering spirit of the city. From the trendy streets of Soho to the historic charm of Greenwich Village, exploring the diverse neighborhoods of New York City is an adventure in itself, with the time commitment varying based on your chosen area and interests. And for those seeking a taste of the city's vibrant culture, a two-hour hour food tour will tantalize your taste buds with diverse flavors and culinary delights.\\\\n\\\\nNo matter your interests or the time of year, New York City promises an unforgettable experience, brimming with iconic sights, captivating performances, and endless opportunities for exploration!\"\n",
            "            }\n",
            "        ]\n",
            "    },\n",
            "    {\n",
            "        \"role\": \"model\",\n",
            "        \"parts\": [\n",
            "            {\n",
            "                \"text\": \"| Activity                     | Best Season to Partake | Time Needed           |\\\\n|------------------------------|-------------------------|-----------------------|\\\\n| Explore Central Park         | Spring, Fall            | Half-day to Full-day   |\\\\n| Visit Metropolitan Museum of Art | Any Season              | Afternoon             |\\\\n| Attend a Broadway Show       | Any Season              | 3 hours                |\\\\n| Ferry to Statue of Liberty & Ellis Island | Spring, Fall            | Half-day to Full-day   |\\\\n| Stroll along the High Line   | Summer                  | 1 hour                 |\\\\n| Visit Times Square           | Any Season              | 30 minutes - 1 hour    |\\\\n| Visit 9/11 Memorial & Museum | Any Season              | 2-3 hours              |\\\\n| Explore NYC Neighborhoods (e.g., Soho, Greenwich Village) | Any Season              | Varies                  |\\\\n| Take a Food Tour             | Any Season              | 2 hours                |\\\\n\\\\n\"\n",
            "            }\n",
            "        ]\n",
            "    }\n",
            "]\n"
          ]
        }
      ],
      "source": [
        "# import necessary modules.\n",
        "import base64\n",
        "import copy\n",
        "import json\n",
        "import pathlib\n",
        "import requests\n",
        "\n",
        "\n",
        "import PIL.Image\n",
        "import IPython.display\n",
        "from IPython.display import Markdown\n",
        "\n",
        "try:\n",
        "    # The SDK will automatically read it from the GOOGLE_API_KEY environment variable.\n",
        "    # In Colab get the key from Colab-secrets (\"🔑\" in the left panel).\n",
        "    import os\n",
        "    from google.colab import userdata\n",
        "\n",
        "    os.environ[\"GOOGLE_API_KEY\"] = userdata.get(\"GOOGLE_API_KEY\")\n",
        "except ImportError:\n",
        "    pass\n",
        "\n",
        "import google.generativeai as genai\n",
        "\n",
        "# Parse the arguments\n",
        "\n",
        "model = 'gemini-1.5-flash' # @param {isTemplate: true}\n",
        "contents_b64 = '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' # @param {isTemplate: true}\n",
        "generation_config_b64 = 'eyJ0ZW1wZXJhdHVyZSI6MSwidG9wX3AiOjAuOTUsInRvcF9rIjo2NCwibWF4X291dHB1dF90b2tlbnMiOjgxOTJ9' # @param {isTemplate: true}\n",
        "safety_settings_b64 = \"e30=\"  # @param {isTemplate: true}\n",
        "\n",
        "gais_contents = json.loads(base64.b64decode(contents_b64))\n",
        "\n",
        "generation_config = json.loads(base64.b64decode(generation_config_b64))\n",
        "safety_settings = json.loads(base64.b64decode(safety_settings_b64))\n",
        "\n",
        "stream = False\n",
        "\n",
        "# Convert and upload the files\n",
        "\n",
        "tempfiles = pathlib.Path(f\"tempfiles\")\n",
        "tempfiles.mkdir(parents=True, exist_ok=True)\n",
        "\n",
        "\n",
        "drive = None\n",
        "def upload_file_data(file_data, index):\n",
        "    \"\"\"Upload files to the Files API.\n",
        "\n",
        "    For each file, Google AI Studio either sent:\n",
        "    - a Google Drive ID,\n",
        "    - a URL,\n",
        "    - a file path, or\n",
        "    - The raw bytes (`inline_data`).\n",
        "\n",
        "    The API only understands `inline_data` or it's Files API.\n",
        "    This code, uploads files to the files API where the API can access them.\n",
        "    \"\"\"\n",
        "\n",
        "    mime_type = file_data[\"mime_type\"]\n",
        "    if drive_id := file_data.pop(\"drive_id\", None):\n",
        "        if drive is None:\n",
        "          from google.colab import drive\n",
        "          drive.mount(\"/gdrive\")\n",
        "\n",
        "        path = next(\n",
        "            pathlib.Path(f\"/gdrive/.shortcut-targets-by-id/{drive_id}\").glob(\"*\")\n",
        "        )\n",
        "        print(\"Uploading:\", str(path))\n",
        "        file_info = genai.upload_file(path=path, mime_type=mime_type)\n",
        "        file_data[\"file_uri\"] = file_info.uri\n",
        "        return\n",
        "\n",
        "    if url := file_data.pop(\"url\", None):\n",
        "        response = requests.get(url)\n",
        "        data = response.content\n",
        "        name = url.split(\"/\")[-1]\n",
        "        path = tempfiles / str(index)\n",
        "        path.write_bytes(data)\n",
        "        print(\"Uploading:\", url)\n",
        "        file_info = genai.upload_file(path, display_name=name, mime_type=mime_type)\n",
        "        file_data[\"file_uri\"] = file_info.uri\n",
        "        return\n",
        "\n",
        "    if name := file_data.get(\"filename\", None):\n",
        "        if not pathlib.Path(name).exists():\n",
        "            raise IOError(\n",
        "                f\"local file: `{name}` does not exist. You can upload files \"\n",
        "                'to Colab using the file manager (\"📁 Files\" in the left '\n",
        "                \"toolbar)\"\n",
        "            )\n",
        "        file_info = genai.upload_file(path, display_name=name, mime_type=mime_type)\n",
        "        file_data[\"file_uri\"] = file_info.uri\n",
        "        return\n",
        "\n",
        "    if \"inline_data\" in file_data:\n",
        "        return\n",
        "\n",
        "    raise ValueError(\"Either `drive_id`, `url` or `inline_data` must be provided.\")\n",
        "\n",
        "\n",
        "contents = copy.deepcopy(gais_contents)\n",
        "\n",
        "index = 0\n",
        "for content in contents:\n",
        "    for n, part in enumerate(content[\"parts\"]):\n",
        "        if file_data := part.get(\"file_data\", None):\n",
        "            upload_file_data(file_data, index)\n",
        "            index += 1\n",
        "\n",
        "import json\n",
        "print(json.dumps(contents, indent=4))"
      ]
    },
    {
      "cell_type": "markdown",
      "metadata": {
        "id": "E7zAD69vE92b"
      },
      "source": [
        "## Call `generate_content`"
      ]
    },
    {
      "cell_type": "code",
      "execution_count": 4,
      "metadata": {
        "id": "LB2LxPmAB95V",
        "colab": {
          "base_uri": "https://localhost:8080/"
        },
        "outputId": "1f5d98bb-71c8-4a9a-e6fd-444b4a5f22a3"
      },
      "outputs": [
        {
          "output_type": "stream",
          "name": "stdout",
          "text": [
            "The model did not return any candidates. Please check your prompt and configuration.\n",
            "Response details: response:\n",
            "GenerateContentResponse(\n",
            "    done=True,\n",
            "    iterator=None,\n",
            "    result=protos.GenerateContentResponse({\n",
            "      \"usage_metadata\": {\n",
            "        \"prompt_token_count\": 649,\n",
            "        \"total_token_count\": 649\n",
            "      }\n",
            "    }),\n",
            ")\n"
          ]
        }
      ],
      "source": [
        "from IPython.display import display\n",
        "from IPython.display import Markdown\n",
        "\n",
        "# Call the model and print the response.\n",
        "gemini = genai.GenerativeModel(model_name=model)\n",
        "\n",
        "response = gemini.generate_content(\n",
        "    contents,\n",
        "    generation_config=generation_config,\n",
        "    safety_settings=safety_settings,\n",
        "    stream=stream,\n",
        ")\n",
        "\n",
        "if response.candidates:\n",
        "    display(Markdown(response.text))\n",
        "else:\n",
        "    print(\"The model did not return any candidates. Please check your prompt and configuration.\")\n",
        "    # Optionally, you can print more details about the response:\n",
        "    print(f\"Response details: {response}\")"
      ]
    },
    {
      "cell_type": "markdown",
      "metadata": {
        "id": "9c9d345e9868"
      },
      "source": [
        "<table class=\"tfo-notebook-buttons\" align=\"left\">\n",
        "  <td>\n",
        "    <a target=\"_blank\" href=\"https://ai.google.dev/gemini-api/docs\"><img src=\"https://ai.google.dev/static/site-assets/images/docs/notebook-site-button.png\" height=\"32\" width=\"32\" />Docs on ai.google.dev</a>\n",
        "  </td>\n",
        "  <td>\n",
        "    <a target=\"_blank\" href=\"https://github.com/google-gemini/cookbook/blob/main/quickstarts\"><img src=\"https://www.tensorflow.org/images/GitHub-Mark-32px.png\" />More notebooks in the Cookbook</a>\n",
        "  </td>\n",
        "</table>"
      ]
    },
    {
      "cell_type": "markdown",
      "metadata": {
        "id": "F91AeeGO1ncU"
      },
      "source": [
        "## [optional] Show the conversation\n",
        "\n",
        "This section displays the conversation received from Google AI Studio."
      ]
    },
    {
      "cell_type": "code",
      "execution_count": 5,
      "metadata": {
        "id": "yoL3p3KPylFW",
        "colab": {
          "base_uri": "https://localhost:8080/"
        },
        "outputId": "d81f7a4c-b23f-4682-95eb-f72dec143aec"
      },
      "outputs": [
        {
          "output_type": "stream",
          "name": "stdout",
          "text": [
            "Role: user \n",
            "\n",
            "Here is an article about exciting things to do in New York City. Convert this into a structured format with 3 columns - activity, best season to partake in this activity, and amount of time needed.\\n\\nNew York City vibrates with an irresistible energy that never sleeps, offering an abundance of experiences for every traveler! In the pleasant embrace of spring or the colorful tapestry of fall, dedicate a half or even a full day to exploring the sprawling expanse of Central Park. Take a leisurely bike ride, enjoy a picnic lunch, or rent a boat on the lake – the possibilities for enjoyment are endless! Regardless of the season, art enthusiasts can immerse themselves in the vast collection of the Metropolitan Museum of Art, dedicating an afternoon to wander through centuries of human creativity.\\n\\nFor a dose of captivating entertainment, catch a world-renowned Broadway show, a three-hour journey into the heart of theater and music. Spring or fall offers the ideal weather for a ferry ride to the Statue of Liberty and Ellis Island, allowing for a half or full day to delve into the stories of immigration and freedom that shaped America. When the weather beckons you outdoors in the summer months, dedicate an hour to a stroll along the High Line, a unique elevated park offering breathtaking city views and urban gardens.\\n\\nAs dusk settles, head to the dazzling spectacle of Times Square, spending thirty minutes to an hour soaking in the vibrant lights and bustling energy. For a moment of reflection, visit the poignant 9/11 Memorial & Museum, dedicating two to three hours to honor the lives lost and the unwavering spirit of the city. From the trendy streets of Soho to the historic charm of Greenwich Village, exploring the diverse neighborhoods of New York City is an adventure in itself, with the time commitment varying based on your chosen area and interests. And for those seeking a taste of the city's vibrant culture, a two-hour hour food tour will tantalize your taste buds with diverse flavors and culinary delights.\\n\\nNo matter your interests or the time of year, New York City promises an unforgettable experience, brimming with iconic sights, captivating performances, and endless opportunities for exploration! \n",
            "\n",
            "-------------------------------------------------------------------------------- \n",
            "\n",
            "Role: model \n",
            "\n",
            "| Activity                     | Best Season to Partake | Time Needed           |\\n|------------------------------|-------------------------|-----------------------|\\n| Explore Central Park         | Spring, Fall            | Half-day to Full-day   |\\n| Visit Metropolitan Museum of Art | Any Season              | Afternoon             |\\n| Attend a Broadway Show       | Any Season              | 3 hours                |\\n| Ferry to Statue of Liberty & Ellis Island | Spring, Fall            | Half-day to Full-day   |\\n| Stroll along the High Line   | Summer                  | 1 hour                 |\\n| Visit Times Square           | Any Season              | 30 minutes - 1 hour    |\\n| Visit 9/11 Memorial & Museum | Any Season              | 2-3 hours              |\\n| Explore NYC Neighborhoods (e.g., Soho, Greenwich Village) | Any Season              | Varies                  |\\n| Take a Food Tour             | Any Season              | 2 hours                |\\n\\n \n",
            "\n",
            "-------------------------------------------------------------------------------- \n",
            "\n"
          ]
        }
      ],
      "source": [
        "# @title Show the conversation, in colab.\n",
        "import mimetypes\n",
        "\n",
        "def show_file(file_data):\n",
        "    mime_type = file_data[\"mime_type\"]\n",
        "\n",
        "    if drive_id := file_data.get(\"drive_id\", None):\n",
        "        path = next(\n",
        "            pathlib.Path(f\"/gdrive/.shortcut-targets-by-id/{drive_id}\").glob(\"*\")\n",
        "        )\n",
        "        name = path\n",
        "        # data = path.read_bytes()\n",
        "        kwargs = {\"filename\": path}\n",
        "    elif url := file_data.get(\"url\", None):\n",
        "        name = url\n",
        "        kwargs = {\"url\": url}\n",
        "        # response = requests.get(url)\n",
        "        # data = response.content\n",
        "    elif data := file_data.get(\"inline_data\", None):\n",
        "        name = None\n",
        "        kwargs = {\"data\": data}\n",
        "    elif name := file_data.get(\"filename\", None):\n",
        "        if not pathlib.Path(name).exists():\n",
        "            raise IOError(\n",
        "                f\"local file: `{name}` does not exist. You can upload files to \"\n",
        "                'Colab using the file manager (\"📁 Files\"in the left toolbar)'\n",
        "            )\n",
        "    else:\n",
        "        raise ValueError(\"Either `drive_id`, `url` or `inline_data` must be provided.\")\n",
        "\n",
        "        print(f\"File:\\n    name: {name}\\n    mime_type: {mime_type}\\n\")\n",
        "        return\n",
        "\n",
        "    format = mimetypes.guess_extension(mime_type).strip(\".\")\n",
        "    if mime_type.startswith(\"image/\"):\n",
        "        image = IPython.display.Image(**kwargs, width=256)\n",
        "        IPython.display.display(image)\n",
        "        print()\n",
        "        return\n",
        "\n",
        "    if mime_type.startswith(\"audio/\"):\n",
        "        if len(data) < 2**12:\n",
        "            audio = IPython.display.Audio(**kwargs)\n",
        "            IPython.display.display(audio)\n",
        "            print()\n",
        "            return\n",
        "\n",
        "    if mime_type.startswith(\"video/\"):\n",
        "        if len(data) < 2**12:\n",
        "            audio = IPython.display.Video(**kwargs, mimetype=mime_type)\n",
        "            IPython.display.display(audio)\n",
        "            print()\n",
        "            return\n",
        "\n",
        "    print(f\"File:\\n    name: {name}\\n    mime_type: {mime_type}\\n\")\n",
        "\n",
        "\n",
        "for content in gais_contents:\n",
        "    if role := content.get(\"role\", None):\n",
        "        print(\"Role:\", role, \"\\n\")\n",
        "\n",
        "    for n, part in enumerate(content[\"parts\"]):\n",
        "        if text := part.get(\"text\", None):\n",
        "            print(text, \"\\n\")\n",
        "\n",
        "        elif file_data := part.get(\"file_data\", None):\n",
        "            show_file(file_data)\n",
        "\n",
        "    print(\"-\" * 80, \"\\n\")"
      ]
    }
  ],
  "metadata": {
    "colab": {
      "collapsed_sections": [
        "Tce3stUlHN0L"
      ],
      "name": "aistudio_gemini_prompt_freeform.ipynb",
      "toc_visible": true,
      "provenance": [],
      "include_colab_link": true
    },
    "kernelspec": {
      "display_name": "Python 3",
      "name": "python3"
    }
  },
  "nbformat": 4,
  "nbformat_minor": 0
}