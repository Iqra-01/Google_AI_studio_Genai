{
  "cells": [
    {
      "cell_type": "markdown",
      "metadata": {
        "id": "view-in-github",
        "colab_type": "text"
      },
      "source": [
        "<a href=\"https://colab.research.google.com/github/Iqra-01/Google_AI_studio_Genai/blob/main/templates/barista%20bot.ipynb\" target=\"_parent\"><img src=\"https://colab.research.google.com/assets/colab-badge.svg\" alt=\"Open In Colab\"/></a>"
      ]
    },
    {
      "cell_type": "markdown",
      "metadata": {
        "id": "Tce3stUlHN0L"
      },
      "source": [
        "##### Copyright 2023 Google LLC"
      ]
    },
    {
      "cell_type": "code",
      "execution_count": null,
      "metadata": {
        "cellView": "form",
        "id": "tuOe1ymfHZPu"
      },
      "outputs": [],
      "source": [
        "# @title Licensed under the Apache License, Version 2.0 (the \"License\");\n",
        "# you may not use this file except in compliance with the License.\n",
        "# You may obtain a copy of the License at\n",
        "#\n",
        "# https://www.apache.org/licenses/LICENSE-2.0\n",
        "#\n",
        "# Unless required by applicable law or agreed to in writing, software\n",
        "# distributed under the License is distributed on an \"AS IS\" BASIS,\n",
        "# WITHOUT WARRANTIES OR CONDITIONS OF ANY KIND, either express or implied.\n",
        "# See the License for the specific language governing permissions and\n",
        "# limitations under the License."
      ]
    },
    {
      "cell_type": "markdown",
      "metadata": {
        "id": "FKwyTRdwB8aW"
      },
      "source": [
        "## Setup"
      ]
    },
    {
      "cell_type": "code",
      "execution_count": null,
      "metadata": {
        "id": "RXInneX6xx7c"
      },
      "outputs": [],
      "source": [
        "!pip install -U -q \"google-generativeai>=0.8.2\""
      ]
    },
    {
      "cell_type": "code",
      "execution_count": null,
      "metadata": {
        "cellView": "form",
        "id": "kWIuwKG2_oWE"
      },
      "outputs": [],
      "source": [
        "# import necessary modules.\n",
        "import base64\n",
        "import copy\n",
        "import json\n",
        "import pathlib\n",
        "import requests\n",
        "\n",
        "\n",
        "import PIL.Image\n",
        "import IPython.display\n",
        "from IPython.display import Markdown\n",
        "\n",
        "try:\n",
        "    # The SDK will automatically read it from the GOOGLE_API_KEY environment variable.\n",
        "    # In Colab get the key from Colab-secrets (\"🔑\" in the left panel).\n",
        "    import os\n",
        "    from google.colab import userdata\n",
        "\n",
        "    os.environ[\"GOOGLE_API_KEY\"] = userdata.get(\"GOOGLE_API_KEY\")\n",
        "except ImportError:\n",
        "    pass\n",
        "\n",
        "import google.generativeai as genai\n",
        "\n",
        "# Parse the arguments\n",
        "\n",
        "model = 'gemini-1.5-flash' # @param {isTemplate: true}\n",
        "contents_b64 = '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' # @param {isTemplate: true}\n",
        "generation_config_b64 = 'eyJ0ZW1wZXJhdHVyZSI6MiwidG9wX3AiOjAuOTUsInRvcF9rIjo0MCwibWF4X291dHB1dF90b2tlbnMiOjgxOTJ9' # @param {isTemplate: true}\n",
        "safety_settings_b64 = \"e30=\"  # @param {isTemplate: true}\n",
        "\n",
        "gais_contents = json.loads(base64.b64decode(contents_b64))\n",
        "\n",
        "generation_config = json.loads(base64.b64decode(generation_config_b64))\n",
        "safety_settings = json.loads(base64.b64decode(safety_settings_b64))\n",
        "\n",
        "stream = False\n",
        "\n",
        "# Convert and upload the files\n",
        "\n",
        "tempfiles = pathlib.Path(f\"tempfiles\")\n",
        "tempfiles.mkdir(parents=True, exist_ok=True)\n",
        "\n",
        "\n",
        "drive = None\n",
        "def upload_file_data(file_data, index):\n",
        "    \"\"\"Upload files to the Files API.\n",
        "\n",
        "    For each file, Google AI Studio either sent:\n",
        "    - a Google Drive ID,\n",
        "    - a URL,\n",
        "    - a file path, or\n",
        "    - The raw bytes (`inline_data`).\n",
        "\n",
        "    The API only understands `inline_data` or it's Files API.\n",
        "    This code, uploads files to the files API where the API can access them.\n",
        "    \"\"\"\n",
        "\n",
        "    mime_type = file_data[\"mime_type\"]\n",
        "    if drive_id := file_data.pop(\"drive_id\", None):\n",
        "        if drive is None:\n",
        "          from google.colab import drive\n",
        "          drive.mount(\"/gdrive\")\n",
        "\n",
        "        path = next(\n",
        "            pathlib.Path(f\"/gdrive/.shortcut-targets-by-id/{drive_id}\").glob(\"*\")\n",
        "        )\n",
        "        print(\"Uploading:\", str(path))\n",
        "        file_info = genai.upload_file(path=path, mime_type=mime_type)\n",
        "        file_data[\"file_uri\"] = file_info.uri\n",
        "        return\n",
        "\n",
        "    if url := file_data.pop(\"url\", None):\n",
        "        response = requests.get(url)\n",
        "        data = response.content\n",
        "        name = url.split(\"/\")[-1]\n",
        "        path = tempfiles / str(index)\n",
        "        path.write_bytes(data)\n",
        "        print(\"Uploading:\", url)\n",
        "        file_info = genai.upload_file(path, display_name=name, mime_type=mime_type)\n",
        "        file_data[\"file_uri\"] = file_info.uri\n",
        "        return\n",
        "\n",
        "    if name := file_data.get(\"filename\", None):\n",
        "        if not pathlib.Path(name).exists():\n",
        "            raise IOError(\n",
        "                f\"local file: `{name}` does not exist. You can upload files \"\n",
        "                'to Colab using the file manager (\"📁 Files\" in the left '\n",
        "                \"toolbar)\"\n",
        "            )\n",
        "        file_info = genai.upload_file(path, display_name=name, mime_type=mime_type)\n",
        "        file_data[\"file_uri\"] = file_info.uri\n",
        "        return\n",
        "\n",
        "    if \"inline_data\" in file_data:\n",
        "        return\n",
        "\n",
        "    raise ValueError(\"Either `drive_id`, `url` or `inline_data` must be provided.\")\n",
        "\n",
        "\n",
        "contents = copy.deepcopy(gais_contents)\n",
        "\n",
        "index = 0\n",
        "for content in contents:\n",
        "    for n, part in enumerate(content[\"parts\"]):\n",
        "        if file_data := part.get(\"file_data\", None):\n",
        "            upload_file_data(file_data, index)\n",
        "            index += 1\n",
        "\n",
        "import json\n",
        "print(json.dumps(contents, indent=4))"
      ]
    },
    {
      "cell_type": "markdown",
      "metadata": {
        "id": "E7zAD69vE92b"
      },
      "source": [
        "## Call `generate_content`"
      ]
    },
    {
      "cell_type": "code",
      "execution_count": null,
      "metadata": {
        "id": "LB2LxPmAB95V"
      },
      "outputs": [],
      "source": [
        "from IPython.display import display\n",
        "from IPython.display import Markdown\n",
        "\n",
        "# Call the model and print the response.\n",
        "gemini = genai.GenerativeModel(model_name=model)\n",
        "\n",
        "response = gemini.generate_content(\n",
        "    contents,\n",
        "    generation_config=generation_config,\n",
        "    safety_settings=safety_settings,\n",
        "    stream=stream,\n",
        ")\n",
        "\n",
        "display(Markdown(response.text))"
      ]
    },
    {
      "cell_type": "markdown",
      "metadata": {
        "id": "9c9d345e9868"
      },
      "source": [
        "<table class=\"tfo-notebook-buttons\" align=\"left\">\n",
        "  <td>\n",
        "    <a target=\"_blank\" href=\"https://ai.google.dev/gemini-api/docs\"><img src=\"https://ai.google.dev/static/site-assets/images/docs/notebook-site-button.png\" height=\"32\" width=\"32\" />Docs on ai.google.dev</a>\n",
        "  </td>\n",
        "  <td>\n",
        "    <a target=\"_blank\" href=\"https://github.com/google-gemini/cookbook/blob/main/quickstarts\"><img src=\"https://www.tensorflow.org/images/GitHub-Mark-32px.png\" />More notebooks in the Cookbook</a>\n",
        "  </td>\n",
        "</table>"
      ]
    },
    {
      "cell_type": "markdown",
      "metadata": {
        "id": "F91AeeGO1ncU"
      },
      "source": [
        "## [optional] Show the conversation\n",
        "\n",
        "This section displays the conversation received from Google AI Studio."
      ]
    },
    {
      "cell_type": "code",
      "execution_count": null,
      "metadata": {
        "cellView": "form",
        "id": "yoL3p3KPylFW"
      },
      "outputs": [],
      "source": [
        "# @title Show the conversation, in colab.\n",
        "import mimetypes\n",
        "\n",
        "def show_file(file_data):\n",
        "    mime_type = file_data[\"mime_type\"]\n",
        "\n",
        "    if drive_id := file_data.get(\"drive_id\", None):\n",
        "        path = next(\n",
        "            pathlib.Path(f\"/gdrive/.shortcut-targets-by-id/{drive_id}\").glob(\"*\")\n",
        "        )\n",
        "        name = path\n",
        "        # data = path.read_bytes()\n",
        "        kwargs = {\"filename\": path}\n",
        "    elif url := file_data.get(\"url\", None):\n",
        "        name = url\n",
        "        kwargs = {\"url\": url}\n",
        "        # response = requests.get(url)\n",
        "        # data = response.content\n",
        "    elif data := file_data.get(\"inline_data\", None):\n",
        "        name = None\n",
        "        kwargs = {\"data\": data}\n",
        "    elif name := file_data.get(\"filename\", None):\n",
        "        if not pathlib.Path(name).exists():\n",
        "            raise IOError(\n",
        "                f\"local file: `{name}` does not exist. You can upload files to \"\n",
        "                'Colab using the file manager (\"📁 Files\"in the left toolbar)'\n",
        "            )\n",
        "    else:\n",
        "        raise ValueError(\"Either `drive_id`, `url` or `inline_data` must be provided.\")\n",
        "\n",
        "        print(f\"File:\\n    name: {name}\\n    mime_type: {mime_type}\\n\")\n",
        "        return\n",
        "\n",
        "    format = mimetypes.guess_extension(mime_type).strip(\".\")\n",
        "    if mime_type.startswith(\"image/\"):\n",
        "        image = IPython.display.Image(**kwargs, width=256)\n",
        "        IPython.display.display(image)\n",
        "        print()\n",
        "        return\n",
        "\n",
        "    if mime_type.startswith(\"audio/\"):\n",
        "        if len(data) < 2**12:\n",
        "            audio = IPython.display.Audio(**kwargs)\n",
        "            IPython.display.display(audio)\n",
        "            print()\n",
        "            return\n",
        "\n",
        "    if mime_type.startswith(\"video/\"):\n",
        "        if len(data) < 2**12:\n",
        "            audio = IPython.display.Video(**kwargs, mimetype=mime_type)\n",
        "            IPython.display.display(audio)\n",
        "            print()\n",
        "            return\n",
        "\n",
        "    print(f\"File:\\n    name: {name}\\n    mime_type: {mime_type}\\n\")\n",
        "\n",
        "\n",
        "for content in gais_contents:\n",
        "    if role := content.get(\"role\", None):\n",
        "        print(\"Role:\", role, \"\\n\")\n",
        "\n",
        "    for n, part in enumerate(content[\"parts\"]):\n",
        "        if text := part.get(\"text\", None):\n",
        "            print(text, \"\\n\")\n",
        "\n",
        "        elif file_data := part.get(\"file_data\", None):\n",
        "            show_file(file_data)\n",
        "\n",
        "    print(\"-\" * 80, \"\\n\")"
      ]
    }
  ],
  "metadata": {
    "colab": {
      "collapsed_sections": [
        "Tce3stUlHN0L"
      ],
      "name": "aistudio_gemini_prompt_freeform.ipynb",
      "toc_visible": true,
      "provenance": [],
      "include_colab_link": true
    },
    "kernelspec": {
      "display_name": "Python 3",
      "name": "python3"
    }
  },
  "nbformat": 4,
  "nbformat_minor": 0
}