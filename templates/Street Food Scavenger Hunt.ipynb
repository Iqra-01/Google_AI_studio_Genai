{
  "cells": [
    {
      "cell_type": "markdown",
      "metadata": {
        "id": "view-in-github",
        "colab_type": "text"
      },
      "source": [
        "<a href=\"https://colab.research.google.com/github/Iqra-01/Google_AI_studio_Genai/blob/main/templates/Street%20Food%20Scavenger%20Hunt.ipynb\" target=\"_parent\"><img src=\"https://colab.research.google.com/assets/colab-badge.svg\" alt=\"Open In Colab\"/></a>"
      ]
    },
    {
      "cell_type": "markdown",
      "metadata": {
        "id": "Tce3stUlHN0L"
      },
      "source": [
        "##### Copyright 2023 Google LLC"
      ]
    },
    {
      "cell_type": "code",
      "execution_count": null,
      "metadata": {
        "cellView": "form",
        "id": "tuOe1ymfHZPu"
      },
      "outputs": [],
      "source": [
        "# @title Licensed under the Apache License, Version 2.0 (the \"License\");\n",
        "# you may not use this file except in compliance with the License.\n",
        "# You may obtain a copy of the License at\n",
        "#\n",
        "# https://www.apache.org/licenses/LICENSE-2.0\n",
        "#\n",
        "# Unless required by applicable law or agreed to in writing, software\n",
        "# distributed under the License is distributed on an \"AS IS\" BASIS,\n",
        "# WITHOUT WARRANTIES OR CONDITIONS OF ANY KIND, either express or implied.\n",
        "# See the License for the specific language governing permissions and\n",
        "# limitations under the License."
      ]
    },
    {
      "cell_type": "markdown",
      "metadata": {
        "id": "FKwyTRdwB8aW"
      },
      "source": [
        "## Setup"
      ]
    },
    {
      "cell_type": "code",
      "execution_count": 1,
      "metadata": {
        "id": "RXInneX6xx7c"
      },
      "outputs": [],
      "source": [
        "!pip install -U -q \"google-generativeai>=0.8.2\""
      ]
    },
    {
      "cell_type": "code",
      "execution_count": 2,
      "metadata": {
        "cellView": "form",
        "id": "kWIuwKG2_oWE",
        "colab": {
          "base_uri": "https://localhost:8080/"
        },
        "outputId": "83710775-3b75-4854-f37b-68114af4273c"
      },
      "outputs": [
        {
          "output_type": "stream",
          "name": "stdout",
          "text": [
            "[\n",
            "    {\n",
            "        \"role\": \"user\",\n",
            "        \"parts\": [\n",
            "            {\n",
            "                \"text\": \"Generate a scavenger hunt for street food around the city of Seoul, Korea.\"\n",
            "            }\n",
            "        ]\n",
            "    },\n",
            "    {\n",
            "        \"role\": \"model\",\n",
            "        \"parts\": [\n",
            "            {\n",
            "                \"text\": \"## Seoul Street Food Scavenger Hunt\\\\n\\\\n**Welcome to Seoul!** Get ready to explore the city's vibrant street food scene with this exciting scavenger hunt.  You'll be searching for some of Seoul's most beloved treats, all while discovering hidden corners and experiencing the city's authentic flavors.\\\\n\\\\n**Instructions:**\\\\n\\\\n1. Print this sheet and bring it with you.\\\\n2. Complete each challenge by finding the specific street food item described. \\\\n3. Once you find it, take a photo of yourself with the food!\\\\n4. Have fun exploring Seoul's delicious side!\\\\n\\\\n**Challenges:**\\\\n\\\\n**1. The Spicy Start:** Find the fiery goodness of **Tteokbokki** (spicy rice cakes). \\\\n\\\\n**Bonus Challenge:**  Try it with a side of **Odeng** (fish cake) for extra flavor.\\\\n\\\\n**2. Sweet and Savory:** Discover the unique combination of sweetness and savory in **Kimbap** (seaweed rice rolls).\\\\n\\\\n**Bonus Challenge:**  Find one with a special ingredient like kimchi or spam.\\\\n\\\\n**3. The Crispy Delight:** Locate the irresistible crunch of **Hotteok** (sweet and savory filled pancake).\\\\n\\\\n**Bonus Challenge:**  Find a Hotteok filled with a surprising ingredient like peanut butter or chocolate.\\\\n\\\\n**4.  The Cool Down:** Find a refreshing **Bingsu** (shaved ice dessert).\\\\n\\\\n**Bonus Challenge:**  Try a Bingsu with a unique flavor like green tea or mango.\\\\n\\\\n**5. The Fusion Treat:**  Seek out a modern twist on a classic Korean street food. This could be anything from a fusion **Kimchi Dog** to a **Bulgogi Burrito**.\\\\n\\\\n**Bonus Challenge:**  Find a street food stand with a creative and unique fusion dish.\\\\n\\\\n**6. The Local Favorite:**  Discover a hidden gem - a street food that's popular among locals but less well-known to tourists. Ask around for recommendations! \\\\n\\\\n**Bonus Challenge:**  Try something you've never seen before and share your experience with your friends!\\\\n\\\\n**7. The Ultimate Snack:**  Find the ultimate comfort food, the **Bungeoppang** (fish-shaped pastry).\\\\n\\\\n**Bonus Challenge:**  Find a Bungeoppang filled with a surprising filling like red bean paste or custard.\\\\n\\\\n**8. The Sweet Ending:** Find a delicious Korean dessert like **Yugwa** (honey-glazed pastry) or **Yakgwa** (deep-fried cookie).\\\\n\\\\n**Bonus Challenge:**  Try a dessert with a traditional Korean flavor like ginseng or ginger.\\\\n\\\\n**Congratulations!** You've completed your Seoul Street Food Scavenger Hunt. You've not only tasted the best of Seoul's street food but also experienced its vibrant culture and hidden gems.  \\\\n\\\\n**Don't forget to share your photos on social media with the hashtag #SeoulStreetFoodHunt!**\"\n",
            "            }\n",
            "        ]\n",
            "    },\n",
            "    {\n",
            "        \"role\": \"user\",\n",
            "        \"parts\": [\n",
            "            {\n",
            "                \"text\": \"street food in dubai gloabal village scavanger hunt\"\n",
            "            }\n",
            "        ]\n",
            "    },\n",
            "    {\n",
            "        \"role\": \"model\",\n",
            "        \"parts\": [\n",
            "            {\n",
            "                \"text\": \"##  Global Village Street Food Scavenger Hunt: A Taste of the World\\\\n\\\\nGet ready to embark on a culinary adventure through Global Village!  This scavenger hunt will take you on a delicious journey, sampling street food from around the world. \\\\n\\\\n**Instructions:**\\\\n\\\\n1. Print this sheet and bring it with you to Global Village.\\\\n2. Complete each challenge by finding the specific street food item described. \\\\n3. Once you find it, take a photo of yourself with the food!\\\\n4. Enjoy the diverse flavors and cultures at Global Village!\\\\n\\\\n**Challenges:**\\\\n\\\\n**1.  The Middle Eastern Delight:**  Seek out a **Shawarma** (spiced meat wrapped in pita bread) with all the fixings.\\\\n\\\\n**Bonus Challenge:** Find a Shawarma with a unique filling like lamb or chicken.\\\\n\\\\n**2.  The Spicy Sensation:** Discover the fiery flavors of **Indian Street Food** like **Samosas** (crispy fried pastries filled with potatoes and peas) or **Pani Puri** (hollow crispy shells filled with spiced water and potatoes). \\\\n\\\\n**Bonus Challenge:**  Try a different type of Indian street food like **Dahi Puri** or **Pav Bhaji**.\\\\n\\\\n**3.  The Sweet Treat:** Find a delicious **Turkish Delight** (gelatinous candy flavored with rose water or citrus).\\\\n\\\\n**Bonus Challenge:** Find a unique flavor of Turkish Delight like pistachio or hazelnut. \\\\n\\\\n**4.  The  International Fusion:**  Find a food item that combines flavors from two different cultures, like a **Sushi Burrito** or a **Korean Fried Chicken Taco**.\\\\n\\\\n**Bonus Challenge:**  Try a fusion dish from a country you've never explored before.\\\\n\\\\n**5.  The  Sweet Surprise:** Discover a dessert from a country you might not expect, like a **French Macaron** or a **Japanese Mochi**.\\\\n\\\\n**Bonus Challenge:**  Find a dessert with a unique flavor or ingredient.\\\\n\\\\n**6.  The Classic Comfort Food:**  Find a beloved street food from any country, like a **Hot Dog** or a **Pizza Slice**.\\\\n\\\\n**Bonus Challenge:**  Find a unique twist on a classic comfort food.\\\\n\\\\n**7.  The Local Treasure:**  Seek out a street food from the United Arab Emirates, like a **Luqaimat** (sweet dumplings) or a **Regag** (thin flatbread).\\\\n\\\\n**Bonus Challenge:**  Try a Emirati dish you've never heard of before and ask the vendor about its history.\\\\n\\\\n**8.  The Ultimate Bite:**  Find a food item that is completely new to you and expand your culinary horizons!\\\\n\\\\n**Bonus Challenge:**  Try something you've never even heard of before and share your experience with friends!\\\\n\\\\n**Congratulations!** You've completed your Global Village Street Food Scavenger Hunt! You've tasted the world and experienced the diverse and delicious cultures represented at Global Village.\\\\n\\\\n**Don't forget to share your photos on social media with the hashtag #GlobalVillageFoodHunt!**\\\\n\\\\n\"\n",
            "            }\n",
            "        ]\n",
            "    }\n",
            "]\n"
          ]
        }
      ],
      "source": [
        "# import necessary modules.\n",
        "import base64\n",
        "import copy\n",
        "import json\n",
        "import pathlib\n",
        "import requests\n",
        "\n",
        "\n",
        "import PIL.Image\n",
        "import IPython.display\n",
        "from IPython.display import Markdown\n",
        "\n",
        "try:\n",
        "    # The SDK will automatically read it from the GOOGLE_API_KEY environment variable.\n",
        "    # In Colab get the key from Colab-secrets (\"🔑\" in the left panel).\n",
        "    import os\n",
        "    from google.colab import userdata\n",
        "\n",
        "    os.environ[\"GOOGLE_API_KEY\"] = userdata.get(\"GOOGLE_API_KEY\")\n",
        "except ImportError:\n",
        "    pass\n",
        "\n",
        "import google.generativeai as genai\n",
        "\n",
        "# Parse the arguments\n",
        "\n",
        "model = 'gemini-1.5-flash' # @param {isTemplate: true}\n",
        "contents_b64 = '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' # @param {isTemplate: true}\n",
        "generation_config_b64 = 'eyJ0ZW1wZXJhdHVyZSI6MSwidG9wX3AiOjAuOTUsInRvcF9rIjo2NCwibWF4X291dHB1dF90b2tlbnMiOjgxOTJ9' # @param {isTemplate: true}\n",
        "safety_settings_b64 = \"e30=\"  # @param {isTemplate: true}\n",
        "\n",
        "gais_contents = json.loads(base64.b64decode(contents_b64))\n",
        "\n",
        "generation_config = json.loads(base64.b64decode(generation_config_b64))\n",
        "safety_settings = json.loads(base64.b64decode(safety_settings_b64))\n",
        "\n",
        "stream = False\n",
        "\n",
        "# Convert and upload the files\n",
        "\n",
        "tempfiles = pathlib.Path(f\"tempfiles\")\n",
        "tempfiles.mkdir(parents=True, exist_ok=True)\n",
        "\n",
        "\n",
        "drive = None\n",
        "def upload_file_data(file_data, index):\n",
        "    \"\"\"Upload files to the Files API.\n",
        "\n",
        "    For each file, Google AI Studio either sent:\n",
        "    - a Google Drive ID,\n",
        "    - a URL,\n",
        "    - a file path, or\n",
        "    - The raw bytes (`inline_data`).\n",
        "\n",
        "    The API only understands `inline_data` or it's Files API.\n",
        "    This code, uploads files to the files API where the API can access them.\n",
        "    \"\"\"\n",
        "\n",
        "    mime_type = file_data[\"mime_type\"]\n",
        "    if drive_id := file_data.pop(\"drive_id\", None):\n",
        "        if drive is None:\n",
        "          from google.colab import drive\n",
        "          drive.mount(\"/gdrive\")\n",
        "\n",
        "        path = next(\n",
        "            pathlib.Path(f\"/gdrive/.shortcut-targets-by-id/{drive_id}\").glob(\"*\")\n",
        "        )\n",
        "        print(\"Uploading:\", str(path))\n",
        "        file_info = genai.upload_file(path=path, mime_type=mime_type)\n",
        "        file_data[\"file_uri\"] = file_info.uri\n",
        "        return\n",
        "\n",
        "    if url := file_data.pop(\"url\", None):\n",
        "        response = requests.get(url)\n",
        "        data = response.content\n",
        "        name = url.split(\"/\")[-1]\n",
        "        path = tempfiles / str(index)\n",
        "        path.write_bytes(data)\n",
        "        print(\"Uploading:\", url)\n",
        "        file_info = genai.upload_file(path, display_name=name, mime_type=mime_type)\n",
        "        file_data[\"file_uri\"] = file_info.uri\n",
        "        return\n",
        "\n",
        "    if name := file_data.get(\"filename\", None):\n",
        "        if not pathlib.Path(name).exists():\n",
        "            raise IOError(\n",
        "                f\"local file: `{name}` does not exist. You can upload files \"\n",
        "                'to Colab using the file manager (\"📁 Files\" in the left '\n",
        "                \"toolbar)\"\n",
        "            )\n",
        "        file_info = genai.upload_file(path, display_name=name, mime_type=mime_type)\n",
        "        file_data[\"file_uri\"] = file_info.uri\n",
        "        return\n",
        "\n",
        "    if \"inline_data\" in file_data:\n",
        "        return\n",
        "\n",
        "    raise ValueError(\"Either `drive_id`, `url` or `inline_data` must be provided.\")\n",
        "\n",
        "\n",
        "contents = copy.deepcopy(gais_contents)\n",
        "\n",
        "index = 0\n",
        "for content in contents:\n",
        "    for n, part in enumerate(content[\"parts\"]):\n",
        "        if file_data := part.get(\"file_data\", None):\n",
        "            upload_file_data(file_data, index)\n",
        "            index += 1\n",
        "\n",
        "import json\n",
        "print(json.dumps(contents, indent=4))"
      ]
    },
    {
      "cell_type": "markdown",
      "metadata": {
        "id": "E7zAD69vE92b"
      },
      "source": [
        "## Call `generate_content`"
      ]
    },
    {
      "cell_type": "code",
      "execution_count": 5,
      "metadata": {
        "id": "LB2LxPmAB95V",
        "colab": {
          "base_uri": "https://localhost:8080/"
        },
        "outputId": "9f03e423-dfbe-4c96-eb5a-2ddb852db582"
      },
      "outputs": [
        {
          "output_type": "stream",
          "name": "stdout",
          "text": [
            "Error: No candidates returned. The prompt may have been blocked.\n"
          ]
        }
      ],
      "source": [
        "from IPython.display import display\n",
        "from IPython.display import Markdown\n",
        "\n",
        "# Call the model and print the response.\n",
        "gemini = genai.GenerativeModel(model_name=model)\n",
        "\n",
        "response = gemini.generate_content(\n",
        "    contents,\n",
        "    generation_config=generation_config,\n",
        "    safety_settings=safety_settings,\n",
        "    stream=stream,\n",
        ")\n",
        "\n",
        "if response.candidates:\n",
        "    display(Markdown(response.text))\n",
        "else:\n",
        "    # Print prompt feedback if available to understand the blocking reason\n",
        "    if response.prompt_feedback:\n",
        "        print(f\"Prompt feedback: {response.prompt_feedback}\")\n",
        "    else:\n",
        "        print(\"Error: No candidates returned. The prompt may have been blocked.\")"
      ]
    },
    {
      "cell_type": "markdown",
      "metadata": {
        "id": "9c9d345e9868"
      },
      "source": [
        "<table class=\"tfo-notebook-buttons\" align=\"left\">\n",
        "  <td>\n",
        "    <a target=\"_blank\" href=\"https://ai.google.dev/gemini-api/docs\"><img src=\"https://ai.google.dev/static/site-assets/images/docs/notebook-site-button.png\" height=\"32\" width=\"32\" />Docs on ai.google.dev</a>\n",
        "  </td>\n",
        "  <td>\n",
        "    <a target=\"_blank\" href=\"https://github.com/google-gemini/cookbook/blob/main/quickstarts\"><img src=\"https://www.tensorflow.org/images/GitHub-Mark-32px.png\" />More notebooks in the Cookbook</a>\n",
        "  </td>\n",
        "</table>"
      ]
    },
    {
      "cell_type": "markdown",
      "metadata": {
        "id": "F91AeeGO1ncU"
      },
      "source": [
        "## [optional] Show the conversation\n",
        "\n",
        "This section displays the conversation received from Google AI Studio."
      ]
    },
    {
      "cell_type": "code",
      "execution_count": 6,
      "metadata": {
        "id": "yoL3p3KPylFW",
        "colab": {
          "base_uri": "https://localhost:8080/"
        },
        "outputId": "d07aef5b-9170-459d-887d-bd2189cb50a3"
      },
      "outputs": [
        {
          "output_type": "stream",
          "name": "stdout",
          "text": [
            "Role: user \n",
            "\n",
            "Generate a scavenger hunt for street food around the city of Seoul, Korea. \n",
            "\n",
            "-------------------------------------------------------------------------------- \n",
            "\n",
            "Role: model \n",
            "\n",
            "## Seoul Street Food Scavenger Hunt\\n\\n**Welcome to Seoul!** Get ready to explore the city's vibrant street food scene with this exciting scavenger hunt.  You'll be searching for some of Seoul's most beloved treats, all while discovering hidden corners and experiencing the city's authentic flavors.\\n\\n**Instructions:**\\n\\n1. Print this sheet and bring it with you.\\n2. Complete each challenge by finding the specific street food item described. \\n3. Once you find it, take a photo of yourself with the food!\\n4. Have fun exploring Seoul's delicious side!\\n\\n**Challenges:**\\n\\n**1. The Spicy Start:** Find the fiery goodness of **Tteokbokki** (spicy rice cakes). \\n\\n**Bonus Challenge:**  Try it with a side of **Odeng** (fish cake) for extra flavor.\\n\\n**2. Sweet and Savory:** Discover the unique combination of sweetness and savory in **Kimbap** (seaweed rice rolls).\\n\\n**Bonus Challenge:**  Find one with a special ingredient like kimchi or spam.\\n\\n**3. The Crispy Delight:** Locate the irresistible crunch of **Hotteok** (sweet and savory filled pancake).\\n\\n**Bonus Challenge:**  Find a Hotteok filled with a surprising ingredient like peanut butter or chocolate.\\n\\n**4.  The Cool Down:** Find a refreshing **Bingsu** (shaved ice dessert).\\n\\n**Bonus Challenge:**  Try a Bingsu with a unique flavor like green tea or mango.\\n\\n**5. The Fusion Treat:**  Seek out a modern twist on a classic Korean street food. This could be anything from a fusion **Kimchi Dog** to a **Bulgogi Burrito**.\\n\\n**Bonus Challenge:**  Find a street food stand with a creative and unique fusion dish.\\n\\n**6. The Local Favorite:**  Discover a hidden gem - a street food that's popular among locals but less well-known to tourists. Ask around for recommendations! \\n\\n**Bonus Challenge:**  Try something you've never seen before and share your experience with your friends!\\n\\n**7. The Ultimate Snack:**  Find the ultimate comfort food, the **Bungeoppang** (fish-shaped pastry).\\n\\n**Bonus Challenge:**  Find a Bungeoppang filled with a surprising filling like red bean paste or custard.\\n\\n**8. The Sweet Ending:** Find a delicious Korean dessert like **Yugwa** (honey-glazed pastry) or **Yakgwa** (deep-fried cookie).\\n\\n**Bonus Challenge:**  Try a dessert with a traditional Korean flavor like ginseng or ginger.\\n\\n**Congratulations!** You've completed your Seoul Street Food Scavenger Hunt. You've not only tasted the best of Seoul's street food but also experienced its vibrant culture and hidden gems.  \\n\\n**Don't forget to share your photos on social media with the hashtag #SeoulStreetFoodHunt!** \n",
            "\n",
            "-------------------------------------------------------------------------------- \n",
            "\n",
            "Role: user \n",
            "\n",
            "street food in dubai gloabal village scavanger hunt \n",
            "\n",
            "-------------------------------------------------------------------------------- \n",
            "\n",
            "Role: model \n",
            "\n",
            "##  Global Village Street Food Scavenger Hunt: A Taste of the World\\n\\nGet ready to embark on a culinary adventure through Global Village!  This scavenger hunt will take you on a delicious journey, sampling street food from around the world. \\n\\n**Instructions:**\\n\\n1. Print this sheet and bring it with you to Global Village.\\n2. Complete each challenge by finding the specific street food item described. \\n3. Once you find it, take a photo of yourself with the food!\\n4. Enjoy the diverse flavors and cultures at Global Village!\\n\\n**Challenges:**\\n\\n**1.  The Middle Eastern Delight:**  Seek out a **Shawarma** (spiced meat wrapped in pita bread) with all the fixings.\\n\\n**Bonus Challenge:** Find a Shawarma with a unique filling like lamb or chicken.\\n\\n**2.  The Spicy Sensation:** Discover the fiery flavors of **Indian Street Food** like **Samosas** (crispy fried pastries filled with potatoes and peas) or **Pani Puri** (hollow crispy shells filled with spiced water and potatoes). \\n\\n**Bonus Challenge:**  Try a different type of Indian street food like **Dahi Puri** or **Pav Bhaji**.\\n\\n**3.  The Sweet Treat:** Find a delicious **Turkish Delight** (gelatinous candy flavored with rose water or citrus).\\n\\n**Bonus Challenge:** Find a unique flavor of Turkish Delight like pistachio or hazelnut. \\n\\n**4.  The  International Fusion:**  Find a food item that combines flavors from two different cultures, like a **Sushi Burrito** or a **Korean Fried Chicken Taco**.\\n\\n**Bonus Challenge:**  Try a fusion dish from a country you've never explored before.\\n\\n**5.  The  Sweet Surprise:** Discover a dessert from a country you might not expect, like a **French Macaron** or a **Japanese Mochi**.\\n\\n**Bonus Challenge:**  Find a dessert with a unique flavor or ingredient.\\n\\n**6.  The Classic Comfort Food:**  Find a beloved street food from any country, like a **Hot Dog** or a **Pizza Slice**.\\n\\n**Bonus Challenge:**  Find a unique twist on a classic comfort food.\\n\\n**7.  The Local Treasure:**  Seek out a street food from the United Arab Emirates, like a **Luqaimat** (sweet dumplings) or a **Regag** (thin flatbread).\\n\\n**Bonus Challenge:**  Try a Emirati dish you've never heard of before and ask the vendor about its history.\\n\\n**8.  The Ultimate Bite:**  Find a food item that is completely new to you and expand your culinary horizons!\\n\\n**Bonus Challenge:**  Try something you've never even heard of before and share your experience with friends!\\n\\n**Congratulations!** You've completed your Global Village Street Food Scavenger Hunt! You've tasted the world and experienced the diverse and delicious cultures represented at Global Village.\\n\\n**Don't forget to share your photos on social media with the hashtag #GlobalVillageFoodHunt!**\\n\\n \n",
            "\n",
            "-------------------------------------------------------------------------------- \n",
            "\n"
          ]
        }
      ],
      "source": [
        "# @title Show the conversation, in colab.\n",
        "import mimetypes\n",
        "\n",
        "def show_file(file_data):\n",
        "    mime_type = file_data[\"mime_type\"]\n",
        "\n",
        "    if drive_id := file_data.get(\"drive_id\", None):\n",
        "        path = next(\n",
        "            pathlib.Path(f\"/gdrive/.shortcut-targets-by-id/{drive_id}\").glob(\"*\")\n",
        "        )\n",
        "        name = path\n",
        "        # data = path.read_bytes()\n",
        "        kwargs = {\"filename\": path}\n",
        "    elif url := file_data.get(\"url\", None):\n",
        "        name = url\n",
        "        kwargs = {\"url\": url}\n",
        "        # response = requests.get(url)\n",
        "        # data = response.content\n",
        "    elif data := file_data.get(\"inline_data\", None):\n",
        "        name = None\n",
        "        kwargs = {\"data\": data}\n",
        "    elif name := file_data.get(\"filename\", None):\n",
        "        if not pathlib.Path(name).exists():\n",
        "            raise IOError(\n",
        "                f\"local file: `{name}` does not exist. You can upload files to \"\n",
        "                'Colab using the file manager (\"📁 Files\"in the left toolbar)'\n",
        "            )\n",
        "    else:\n",
        "        raise ValueError(\"Either `drive_id`, `url` or `inline_data` must be provided.\")\n",
        "\n",
        "        print(f\"File:\\n    name: {name}\\n    mime_type: {mime_type}\\n\")\n",
        "        return\n",
        "\n",
        "    format = mimetypes.guess_extension(mime_type).strip(\".\")\n",
        "    if mime_type.startswith(\"image/\"):\n",
        "        image = IPython.display.Image(**kwargs, width=256)\n",
        "        IPython.display.display(image)\n",
        "        print()\n",
        "        return\n",
        "\n",
        "    if mime_type.startswith(\"audio/\"):\n",
        "        if len(data) < 2**12:\n",
        "            audio = IPython.display.Audio(**kwargs)\n",
        "            IPython.display.display(audio)\n",
        "            print()\n",
        "            return\n",
        "\n",
        "    if mime_type.startswith(\"video/\"):\n",
        "        if len(data) < 2**12:\n",
        "            audio = IPython.display.Video(**kwargs, mimetype=mime_type)\n",
        "            IPython.display.display(audio)\n",
        "            print()\n",
        "            return\n",
        "\n",
        "    print(f\"File:\\n    name: {name}\\n    mime_type: {mime_type}\\n\")\n",
        "\n",
        "\n",
        "for content in gais_contents:\n",
        "    if role := content.get(\"role\", None):\n",
        "        print(\"Role:\", role, \"\\n\")\n",
        "\n",
        "    for n, part in enumerate(content[\"parts\"]):\n",
        "        if text := part.get(\"text\", None):\n",
        "            print(text, \"\\n\")\n",
        "\n",
        "        elif file_data := part.get(\"file_data\", None):\n",
        "            show_file(file_data)\n",
        "\n",
        "    print(\"-\" * 80, \"\\n\")"
      ]
    }
  ],
  "metadata": {
    "colab": {
      "collapsed_sections": [
        "Tce3stUlHN0L"
      ],
      "name": "aistudio_gemini_prompt_freeform.ipynb",
      "toc_visible": true,
      "provenance": [],
      "include_colab_link": true
    },
    "kernelspec": {
      "display_name": "Python 3",
      "name": "python3"
    }
  },
  "nbformat": 4,
  "nbformat_minor": 0
}