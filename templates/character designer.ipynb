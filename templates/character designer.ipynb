{
  "cells": [
    {
      "cell_type": "markdown",
      "metadata": {
        "id": "view-in-github",
        "colab_type": "text"
      },
      "source": [
        "<a href=\"https://colab.research.google.com/github/Iqra-01/Google_AI_studio_Genai/blob/main/templates/character%20designer.ipynb\" target=\"_parent\"><img src=\"https://colab.research.google.com/assets/colab-badge.svg\" alt=\"Open In Colab\"/></a>"
      ]
    },
    {
      "cell_type": "markdown",
      "metadata": {
        "id": "Tce3stUlHN0L"
      },
      "source": [
        "##### Copyright 2023 Google LLC"
      ]
    },
    {
      "cell_type": "code",
      "execution_count": null,
      "metadata": {
        "cellView": "form",
        "id": "tuOe1ymfHZPu"
      },
      "outputs": [],
      "source": [
        "# @title Licensed under the Apache License, Version 2.0 (the \"License\");\n",
        "# you may not use this file except in compliance with the License.\n",
        "# You may obtain a copy of the License at\n",
        "#\n",
        "# https://www.apache.org/licenses/LICENSE-2.0\n",
        "#\n",
        "# Unless required by applicable law or agreed to in writing, software\n",
        "# distributed under the License is distributed on an \"AS IS\" BASIS,\n",
        "# WITHOUT WARRANTIES OR CONDITIONS OF ANY KIND, either express or implied.\n",
        "# See the License for the specific language governing permissions and\n",
        "# limitations under the License."
      ]
    },
    {
      "cell_type": "markdown",
      "metadata": {
        "id": "FKwyTRdwB8aW"
      },
      "source": [
        "## Setup"
      ]
    },
    {
      "cell_type": "code",
      "execution_count": 1,
      "metadata": {
        "id": "RXInneX6xx7c"
      },
      "outputs": [],
      "source": [
        "!pip install -U -q \"google-generativeai>=0.8.2\""
      ]
    },
    {
      "cell_type": "code",
      "execution_count": 2,
      "metadata": {
        "cellView": "form",
        "id": "kWIuwKG2_oWE",
        "colab": {
          "base_uri": "https://localhost:8080/"
        },
        "outputId": "ccd87868-7cb9-49d8-8f22-0ab5a0d422a5"
      },
      "outputs": [
        {
          "output_type": "stream",
          "name": "stdout",
          "text": [
            "[\n",
            "    {\n",
            "        \"parts\": [\n",
            "            {\n",
            "                \"text\": \"Write a character design in a pirate-themed game set in the Joseon era.\"\n",
            "            },\n",
            "            {\n",
            "                \"text\": \"input: Main Character (Female)\"\n",
            "            },\n",
            "            {\n",
            "                \"text\": \"output: **Name:** Haenyeo\\\\n\\\\n**Appearance:**\\\\n\\\\n* **Age:** Mid-twenties\\\\n* **Height:** 5'7\\\\\\\"\\\\n* **Weight:** 130 lbs\\\\n* **Build:** Athletic and agile\\\\n* **Hair:** Long, black hair worn in a practical braid\\\\n* **Eyes:** Piercing hazel eyes that reflect the sea's depths\\\\n* **Clothing:**\\\\n    * Loose, dark-colored pants tucked into sturdy leather boots\\\\n    * A lightweight cotton shirt with a low neckline, trimmed with intricate embroidery\\\\n    * A leather vest with multiple pockets for tools and supplies\\\\n* **Accessories:**\\\\n    * A broad-brimmed hat to shield her face from the sun\\\\n    * A pair of silver earrings in the shape of anchors\\\\n    * A leather belt with a small pouch for valuables\\\\n\\\\n**Personality:**\\\\n\\\\n* **Determined:** Haenyeo is a fearless and tenacious pirate, driven by a strong sense of justice and a desire for adventure.\\\\n* **Resourceful:** Her time spent as a haenyeo (Korean female diver) has honed her survival instincts and adaptability.\\\\n* **Empathetic:** Despite her pirate lifestyle, Haenyeo has a compassionate heart and a soft spot for those in need.\\\\n* **Intelligent:** She is quick-witted and observant, able to assess situations and make decisions swiftly.\\\\n* **Independent:** Haenyeo values her freedom and relies on her own abilities rather than seeking help from others.\\\\n\\\\n**Skills:**\\\\n\\\\n* **Diving:** Haenyeo is an expert diver, capable of holding her breath for extended periods and navigating underwater with ease.\\\\n* **Swimming:** Her exceptional swimming abilities allow her to navigate the treacherous ocean currents and avoid danger.\\\\n* **Spearfishing:** She is a skilled spearfisher, using her knowledge of marine life to locate and catch prey underwater.\\\\n* **Seamanship:** As a pirate, Haenyeo is familiar with the basics of sailing and ship navigation.\\\\n* **Hand-to-Hand Combat:** While not an expert fighter, she is proficient in basic self-defense techniques, using her agility and knowledge of pressure points to subdue opponents.\\\\n\\\\n**Background:**\\\\n\\\\nHaenyeo was raised on a coastal village and learned the ways of the haenyeo from a young age. However, when her village was attacked by bandits, she witnessed firsthand the brutality of war and decided to fight back.\\\\n\\\\nJoining a pirate crew, Haenyeo has proven herself as a valuable member, using her diving skills to scout for enemy ships and gather underwater resources. Her determination and compassion have also earned her the respect of her crewmates.\"\n",
            "            },\n",
            "            {\n",
            "                \"text\": \"input: Main Character (Male)\"\n",
            "            },\n",
            "            {\n",
            "                \"text\": \"output: \"\n",
            "            }\n",
            "        ]\n",
            "    }\n",
            "]\n"
          ]
        }
      ],
      "source": [
        "# import necessary modules.\n",
        "import base64\n",
        "import copy\n",
        "import json\n",
        "import pathlib\n",
        "import requests\n",
        "\n",
        "\n",
        "import PIL.Image\n",
        "import IPython.display\n",
        "from IPython.display import Markdown\n",
        "\n",
        "try:\n",
        "    # The SDK will automatically read it from the GOOGLE_API_KEY environment variable.\n",
        "    # In Colab get the key from Colab-secrets (\"🔑\" in the left panel).\n",
        "    import os\n",
        "    from google.colab import userdata\n",
        "\n",
        "    os.environ[\"GOOGLE_API_KEY\"] = userdata.get(\"GOOGLE_API_KEY\")\n",
        "except ImportError:\n",
        "    pass\n",
        "\n",
        "import google.generativeai as genai\n",
        "\n",
        "# Parse the arguments\n",
        "\n",
        "model = 'gemini-1.5-pro' # @param {isTemplate: true}\n",
        "contents_b64 = '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' # @param {isTemplate: true}\n",
        "generation_config_b64 = 'eyJ0ZW1wZXJhdHVyZSI6MiwidG9wX3AiOjAuOTUsInRvcF9rIjo0MCwibWF4X291dHB1dF90b2tlbnMiOjgxOTJ9' # @param {isTemplate: true}\n",
        "safety_settings_b64 = \"e30=\"  # @param {isTemplate: true}\n",
        "\n",
        "gais_contents = json.loads(base64.b64decode(contents_b64))\n",
        "\n",
        "generation_config = json.loads(base64.b64decode(generation_config_b64))\n",
        "safety_settings = json.loads(base64.b64decode(safety_settings_b64))\n",
        "\n",
        "stream = False\n",
        "\n",
        "# Convert and upload the files\n",
        "\n",
        "tempfiles = pathlib.Path(f\"tempfiles\")\n",
        "tempfiles.mkdir(parents=True, exist_ok=True)\n",
        "\n",
        "\n",
        "drive = None\n",
        "def upload_file_data(file_data, index):\n",
        "    \"\"\"Upload files to the Files API.\n",
        "\n",
        "    For each file, Google AI Studio either sent:\n",
        "    - a Google Drive ID,\n",
        "    - a URL,\n",
        "    - a file path, or\n",
        "    - The raw bytes (`inline_data`).\n",
        "\n",
        "    The API only understands `inline_data` or it's Files API.\n",
        "    This code, uploads files to the files API where the API can access them.\n",
        "    \"\"\"\n",
        "\n",
        "    mime_type = file_data[\"mime_type\"]\n",
        "    if drive_id := file_data.pop(\"drive_id\", None):\n",
        "        if drive is None:\n",
        "          from google.colab import drive\n",
        "          drive.mount(\"/gdrive\")\n",
        "\n",
        "        path = next(\n",
        "            pathlib.Path(f\"/gdrive/.shortcut-targets-by-id/{drive_id}\").glob(\"*\")\n",
        "        )\n",
        "        print(\"Uploading:\", str(path))\n",
        "        file_info = genai.upload_file(path=path, mime_type=mime_type)\n",
        "        file_data[\"file_uri\"] = file_info.uri\n",
        "        return\n",
        "\n",
        "    if url := file_data.pop(\"url\", None):\n",
        "        response = requests.get(url)\n",
        "        data = response.content\n",
        "        name = url.split(\"/\")[-1]\n",
        "        path = tempfiles / str(index)\n",
        "        path.write_bytes(data)\n",
        "        print(\"Uploading:\", url)\n",
        "        file_info = genai.upload_file(path, display_name=name, mime_type=mime_type)\n",
        "        file_data[\"file_uri\"] = file_info.uri\n",
        "        return\n",
        "\n",
        "    if name := file_data.get(\"filename\", None):\n",
        "        if not pathlib.Path(name).exists():\n",
        "            raise IOError(\n",
        "                f\"local file: `{name}` does not exist. You can upload files \"\n",
        "                'to Colab using the file manager (\"📁 Files\" in the left '\n",
        "                \"toolbar)\"\n",
        "            )\n",
        "        file_info = genai.upload_file(path, display_name=name, mime_type=mime_type)\n",
        "        file_data[\"file_uri\"] = file_info.uri\n",
        "        return\n",
        "\n",
        "    if \"inline_data\" in file_data:\n",
        "        return\n",
        "\n",
        "    raise ValueError(\"Either `drive_id`, `url` or `inline_data` must be provided.\")\n",
        "\n",
        "\n",
        "contents = copy.deepcopy(gais_contents)\n",
        "\n",
        "index = 0\n",
        "for content in contents:\n",
        "    for n, part in enumerate(content[\"parts\"]):\n",
        "        if file_data := part.get(\"file_data\", None):\n",
        "            upload_file_data(file_data, index)\n",
        "            index += 1\n",
        "\n",
        "import json\n",
        "print(json.dumps(contents, indent=4))"
      ]
    },
    {
      "cell_type": "markdown",
      "metadata": {
        "id": "E7zAD69vE92b"
      },
      "source": [
        "## Call `generate_content`"
      ]
    },
    {
      "cell_type": "code",
      "execution_count": 3,
      "metadata": {
        "id": "LB2LxPmAB95V",
        "colab": {
          "base_uri": "https://localhost:8080/",
          "height": 685
        },
        "outputId": "09857299-6d1e-405f-f475-7282982c29f4"
      },
      "outputs": [
        {
          "output_type": "display_data",
          "data": {
            "text/plain": [
              "<IPython.core.display.Markdown object>"
            ],
            "text/markdown": "**Name:** Dohyeong\n\n**Appearance:**\n\n* **Age:** Late twenties\n* **Height:** 6'0\"\n* **Weight:** 170 lbs\n* **Build:** Lean and wiry, built for speed and agility.\n* **Hair:** Dark brown, pulled back into a topknot, with a few loose strands framing his face.  \n* **Eyes:** Sharp, dark brown eyes that often hold a mischievous glint.\n* **Clothing:**\n    * Loose-fitting baji pants (traditional Korean trousers) in a dark indigo color.\n    * A short-sleeved, linen jeogori (traditional Korean jacket) in a lighter shade of blue, often left open to reveal a toned chest.  A dark-colored vest might be worn over this in colder weather.\n    * Simple straw sandals or leather boots depending on the situation.\n* **Accessories:**\n    * A dojang (Korean headwear often associated with scholars), though his would be slightly more weathered and worn. It can be adjusted to shadow his face.\n    * A jangdo (Korean sword) strapped to his hip.\n    * A small, intricately carved wooden pendant hanging from a leather cord around his neck.  This might be a family heirloom or a memento of a lost love.\n\n\n**Personality:**\n\n* **Cunning:** Dohyeong is a master strategist and manipulator, always thinking several steps ahead.\n* **Charismatic:** He possesses a natural charm and a quick wit, able to talk his way into (or out of) almost any situation.\n* **Ambitious:**  Dohyeong craves power and recognition, dreaming of one day commanding his own fleet.\n* **Loyal (to a select few):** While he can be deceitful to his enemies, he shows fierce loyalty to the few people he truly trusts.\n* **Reckless:** His ambition sometimes leads him to take unnecessary risks.\n\n\n**Skills:**\n\n* **Swordsmanship:** Dohyeong is a highly skilled swordsman, specializing in quick, precise strikes.\n* **Navigation:** He possesses an innate understanding of the sea and the stars, allowing him to navigate even the most treacherous waters.\n* **Leadership:** Dohyeong has a natural talent for inspiring and motivating others, though his methods can sometimes be questionable.\n* **Multilingual:** He is fluent in several languages, including Korean, Japanese, and Mandarin, which proves useful in his dealings with other pirates and traders.\n* **Gambling:**  Dohyeong is a skilled gambler, often using his cunning and charisma to win big at cards or dice.\n\n\n**Background:**\n\nDohyeong was born into a noble family, but his rebellious nature and thirst for adventure led him to abandon his privileged life and embrace the pirate life. His sharp intellect and strategic mind quickly earned him a prominent position within a crew, and he continues to rise through the ranks, leaving a trail of outwitted rivals in his wake. He carries a deep-seated resentment against the corrupt officials who he believes wronged his family, fueling his ambition for power and revenge.\n"
          },
          "metadata": {}
        }
      ],
      "source": [
        "from IPython.display import display\n",
        "from IPython.display import Markdown\n",
        "\n",
        "# Call the model and print the response.\n",
        "gemini = genai.GenerativeModel(model_name=model)\n",
        "\n",
        "response = gemini.generate_content(\n",
        "    contents,\n",
        "    generation_config=generation_config,\n",
        "    safety_settings=safety_settings,\n",
        "    stream=stream,\n",
        ")\n",
        "\n",
        "display(Markdown(response.text))"
      ]
    },
    {
      "cell_type": "markdown",
      "metadata": {
        "id": "9c9d345e9868"
      },
      "source": [
        "<table class=\"tfo-notebook-buttons\" align=\"left\">\n",
        "  <td>\n",
        "    <a target=\"_blank\" href=\"https://ai.google.dev/gemini-api/docs\"><img src=\"https://ai.google.dev/static/site-assets/images/docs/notebook-site-button.png\" height=\"32\" width=\"32\" />Docs on ai.google.dev</a>\n",
        "  </td>\n",
        "  <td>\n",
        "    <a target=\"_blank\" href=\"https://github.com/google-gemini/cookbook/blob/main/quickstarts\"><img src=\"https://www.tensorflow.org/images/GitHub-Mark-32px.png\" />More notebooks in the Cookbook</a>\n",
        "  </td>\n",
        "</table>"
      ]
    },
    {
      "cell_type": "markdown",
      "metadata": {
        "id": "F91AeeGO1ncU"
      },
      "source": [
        "## [optional] Show the conversation\n",
        "\n",
        "This section displays the conversation received from Google AI Studio."
      ]
    },
    {
      "cell_type": "code",
      "execution_count": 4,
      "metadata": {
        "cellView": "form",
        "id": "yoL3p3KPylFW",
        "colab": {
          "base_uri": "https://localhost:8080/"
        },
        "outputId": "aa74d18d-0c5e-43ec-bd28-77de02d12bf6"
      },
      "outputs": [
        {
          "output_type": "stream",
          "name": "stdout",
          "text": [
            "Write a character design in a pirate-themed game set in the Joseon era. \n",
            "\n",
            "input: Main Character (Female) \n",
            "\n",
            "output: **Name:** Haenyeo\\n\\n**Appearance:**\\n\\n* **Age:** Mid-twenties\\n* **Height:** 5'7\\\"\\n* **Weight:** 130 lbs\\n* **Build:** Athletic and agile\\n* **Hair:** Long, black hair worn in a practical braid\\n* **Eyes:** Piercing hazel eyes that reflect the sea's depths\\n* **Clothing:**\\n    * Loose, dark-colored pants tucked into sturdy leather boots\\n    * A lightweight cotton shirt with a low neckline, trimmed with intricate embroidery\\n    * A leather vest with multiple pockets for tools and supplies\\n* **Accessories:**\\n    * A broad-brimmed hat to shield her face from the sun\\n    * A pair of silver earrings in the shape of anchors\\n    * A leather belt with a small pouch for valuables\\n\\n**Personality:**\\n\\n* **Determined:** Haenyeo is a fearless and tenacious pirate, driven by a strong sense of justice and a desire for adventure.\\n* **Resourceful:** Her time spent as a haenyeo (Korean female diver) has honed her survival instincts and adaptability.\\n* **Empathetic:** Despite her pirate lifestyle, Haenyeo has a compassionate heart and a soft spot for those in need.\\n* **Intelligent:** She is quick-witted and observant, able to assess situations and make decisions swiftly.\\n* **Independent:** Haenyeo values her freedom and relies on her own abilities rather than seeking help from others.\\n\\n**Skills:**\\n\\n* **Diving:** Haenyeo is an expert diver, capable of holding her breath for extended periods and navigating underwater with ease.\\n* **Swimming:** Her exceptional swimming abilities allow her to navigate the treacherous ocean currents and avoid danger.\\n* **Spearfishing:** She is a skilled spearfisher, using her knowledge of marine life to locate and catch prey underwater.\\n* **Seamanship:** As a pirate, Haenyeo is familiar with the basics of sailing and ship navigation.\\n* **Hand-to-Hand Combat:** While not an expert fighter, she is proficient in basic self-defense techniques, using her agility and knowledge of pressure points to subdue opponents.\\n\\n**Background:**\\n\\nHaenyeo was raised on a coastal village and learned the ways of the haenyeo from a young age. However, when her village was attacked by bandits, she witnessed firsthand the brutality of war and decided to fight back.\\n\\nJoining a pirate crew, Haenyeo has proven herself as a valuable member, using her diving skills to scout for enemy ships and gather underwater resources. Her determination and compassion have also earned her the respect of her crewmates. \n",
            "\n",
            "input: Main Character (Male) \n",
            "\n",
            "output:  \n",
            "\n",
            "-------------------------------------------------------------------------------- \n",
            "\n"
          ]
        }
      ],
      "source": [
        "# @title Show the conversation, in colab.\n",
        "import mimetypes\n",
        "\n",
        "def show_file(file_data):\n",
        "    mime_type = file_data[\"mime_type\"]\n",
        "\n",
        "    if drive_id := file_data.get(\"drive_id\", None):\n",
        "        path = next(\n",
        "            pathlib.Path(f\"/gdrive/.shortcut-targets-by-id/{drive_id}\").glob(\"*\")\n",
        "        )\n",
        "        name = path\n",
        "        # data = path.read_bytes()\n",
        "        kwargs = {\"filename\": path}\n",
        "    elif url := file_data.get(\"url\", None):\n",
        "        name = url\n",
        "        kwargs = {\"url\": url}\n",
        "        # response = requests.get(url)\n",
        "        # data = response.content\n",
        "    elif data := file_data.get(\"inline_data\", None):\n",
        "        name = None\n",
        "        kwargs = {\"data\": data}\n",
        "    elif name := file_data.get(\"filename\", None):\n",
        "        if not pathlib.Path(name).exists():\n",
        "            raise IOError(\n",
        "                f\"local file: `{name}` does not exist. You can upload files to \"\n",
        "                'Colab using the file manager (\"📁 Files\"in the left toolbar)'\n",
        "            )\n",
        "    else:\n",
        "        raise ValueError(\"Either `drive_id`, `url` or `inline_data` must be provided.\")\n",
        "\n",
        "        print(f\"File:\\n    name: {name}\\n    mime_type: {mime_type}\\n\")\n",
        "        return\n",
        "\n",
        "    format = mimetypes.guess_extension(mime_type).strip(\".\")\n",
        "    if mime_type.startswith(\"image/\"):\n",
        "        image = IPython.display.Image(**kwargs, width=256)\n",
        "        IPython.display.display(image)\n",
        "        print()\n",
        "        return\n",
        "\n",
        "    if mime_type.startswith(\"audio/\"):\n",
        "        if len(data) < 2**12:\n",
        "            audio = IPython.display.Audio(**kwargs)\n",
        "            IPython.display.display(audio)\n",
        "            print()\n",
        "            return\n",
        "\n",
        "    if mime_type.startswith(\"video/\"):\n",
        "        if len(data) < 2**12:\n",
        "            audio = IPython.display.Video(**kwargs, mimetype=mime_type)\n",
        "            IPython.display.display(audio)\n",
        "            print()\n",
        "            return\n",
        "\n",
        "    print(f\"File:\\n    name: {name}\\n    mime_type: {mime_type}\\n\")\n",
        "\n",
        "\n",
        "for content in gais_contents:\n",
        "    if role := content.get(\"role\", None):\n",
        "        print(\"Role:\", role, \"\\n\")\n",
        "\n",
        "    for n, part in enumerate(content[\"parts\"]):\n",
        "        if text := part.get(\"text\", None):\n",
        "            print(text, \"\\n\")\n",
        "\n",
        "        elif file_data := part.get(\"file_data\", None):\n",
        "            show_file(file_data)\n",
        "\n",
        "    print(\"-\" * 80, \"\\n\")"
      ]
    }
  ],
  "metadata": {
    "colab": {
      "collapsed_sections": [
        "Tce3stUlHN0L"
      ],
      "name": "aistudio_gemini_prompt_freeform.ipynb",
      "toc_visible": true,
      "provenance": [],
      "include_colab_link": true
    },
    "kernelspec": {
      "display_name": "Python 3",
      "name": "python3"
    }
  },
  "nbformat": 4,
  "nbformat_minor": 0
}