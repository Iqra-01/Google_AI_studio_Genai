{
  "cells": [
    {
      "cell_type": "markdown",
      "metadata": {
        "id": "view-in-github",
        "colab_type": "text"
      },
      "source": [
        "<a href=\"https://colab.research.google.com/github/Iqra-01/Google_AI_studio_Genai/blob/main/templates/add%20unit%20tests%20to%20code.ipynb\" target=\"_parent\"><img src=\"https://colab.research.google.com/assets/colab-badge.svg\" alt=\"Open In Colab\"/></a>"
      ]
    },
    {
      "cell_type": "markdown",
      "metadata": {
        "id": "Tce3stUlHN0L"
      },
      "source": [
        "##### Copyright 2023 Google LLC"
      ]
    },
    {
      "cell_type": "code",
      "execution_count": null,
      "metadata": {
        "cellView": "form",
        "id": "tuOe1ymfHZPu"
      },
      "outputs": [],
      "source": [
        "# @title Licensed under the Apache License, Version 2.0 (the \"License\");\n",
        "# you may not use this file except in compliance with the License.\n",
        "# You may obtain a copy of the License at\n",
        "#\n",
        "# https://www.apache.org/licenses/LICENSE-2.0\n",
        "#\n",
        "# Unless required by applicable law or agreed to in writing, software\n",
        "# distributed under the License is distributed on an \"AS IS\" BASIS,\n",
        "# WITHOUT WARRANTIES OR CONDITIONS OF ANY KIND, either express or implied.\n",
        "# See the License for the specific language governing permissions and\n",
        "# limitations under the License."
      ]
    },
    {
      "cell_type": "markdown",
      "metadata": {
        "id": "FKwyTRdwB8aW"
      },
      "source": [
        "## Setup"
      ]
    },
    {
      "cell_type": "code",
      "execution_count": 1,
      "metadata": {
        "id": "RXInneX6xx7c"
      },
      "outputs": [],
      "source": [
        "!pip install -U -q \"google-generativeai>=0.8.2\""
      ]
    },
    {
      "cell_type": "code",
      "execution_count": 2,
      "metadata": {
        "id": "kWIuwKG2_oWE",
        "colab": {
          "base_uri": "https://localhost:8080/"
        },
        "outputId": "81cb673d-8108-4b36-e064-bccbf62c7418"
      },
      "outputs": [
        {
          "output_type": "stream",
          "name": "stdout",
          "text": [
            "[\n",
            "    {\n",
            "        \"role\": \"user\",\n",
            "        \"parts\": [\n",
            "            {\n",
            "                \"text\": \"Here's a Python function that checks whether a word is a palindrome.\\\\nAdd 10 different unit tests for this snippet with comments. Follow up with a short explanation of what was done.\\\\n\\\\n\\\\n```\\\\ndef is_palindrome(word):\\\\n  \\\\\\\"\\\\\\\"\\\\\\\"\\\\n  Checks whether a word is a palindrome.\\\\n\\\\n  Args:\\\\n    word: The word to check.\\\\n\\\\n  Returns:\\\\n    True if the word is a palindrome, False otherwise.\\\\n  \\\\\\\"\\\\\\\"\\\\\\\"\\\\n\\\\n  # Convert the word to lowercase and remove non-alphanumeric characters.\\\\n  word = ''.join(char.lower() for char in word if char.isalnum())\\\\n\\\\n  # Check if the word is the same forwards and backwards.\\\\n  return word == word[::-1]\\\\n```\"\n",
            "            }\n",
            "        ]\n",
            "    },\n",
            "    {\n",
            "        \"role\": \"model\",\n",
            "        \"parts\": [\n",
            "            {\n",
            "                \"text\": \"```python\\\\ndef is_palindrome(word):\\\\n  \\\\\\\"\\\\\\\"\\\\\\\"\\\\n  Checks whether a word is a palindrome.\\\\n\\\\n  Args:\\\\n    word: The word to check.\\\\n\\\\n  Returns:\\\\n    True if the word is a palindrome, False otherwise.\\\\n  \\\\\\\"\\\\\\\"\\\\\\\"\\\\n\\\\n  # Convert the word to lowercase and remove non-alphanumeric characters.\\\\n  word = ''.join(char.lower() for char in word if char.isalnum())\\\\n\\\\n  # Check if the word is the same forwards and backwards.\\\\n  return word == word[::-1]\\\\n\\\\n# Unit Tests\\\\nimport unittest\\\\n\\\\nclass TestPalindrome(unittest.TestCase):\\\\n\\\\n  def test_empty_string(self):\\\\n    \\\\\\\"\\\\\\\"\\\\\\\"Test with an empty string.\\\\\\\"\\\\\\\"\\\\\\\"\\\\n    self.assertTrue(is_palindrome(\\\\\\\"\\\\\\\"))\\\\n\\\\n  def test_single_character(self):\\\\n    \\\\\\\"\\\\\\\"\\\\\\\"Test with a single character.\\\\\\\"\\\\\\\"\\\\\\\"\\\\n    self.assertTrue(is_palindrome(\\\\\\\"a\\\\\\\"))\\\\n\\\\n  def test_palindrome_lowercase(self):\\\\n    \\\\\\\"\\\\\\\"\\\\\\\"Test with a palindrome in lowercase.\\\\\\\"\\\\\\\"\\\\\\\"\\\\n    self.assertTrue(is_palindrome(\\\\\\\"racecar\\\\\\\"))\\\\n\\\\n  def test_palindrome_uppercase(self):\\\\n    \\\\\\\"\\\\\\\"\\\\\\\"Test with a palindrome in uppercase.\\\\\\\"\\\\\\\"\\\\\\\"\\\\n    self.assertTrue(is_palindrome(\\\\\\\"RACECAR\\\\\\\"))\\\\n\\\\n  def test_palindrome_mixed_case(self):\\\\n    \\\\\\\"\\\\\\\"\\\\\\\"Test with a palindrome in mixed case.\\\\\\\"\\\\\\\"\\\\\\\"\\\\n    self.assertTrue(is_palindrome(\\\\\\\"RaCeCaR\\\\\\\"))\\\\n\\\\n  def test_non_palindrome_lowercase(self):\\\\n    \\\\\\\"\\\\\\\"\\\\\\\"Test with a non-palindrome in lowercase.\\\\\\\"\\\\\\\"\\\\\\\"\\\\n    self.assertFalse(is_palindrome(\\\\\\\"hello\\\\\\\"))\\\\n\\\\n  def test_non_palindrome_uppercase(self):\\\\n    \\\\\\\"\\\\\\\"\\\\\\\"Test with a non-palindrome in uppercase.\\\\\\\"\\\\\\\"\\\\\\\"\\\\n    self.assertFalse(is_palindrome(\\\\\\\"WORLD\\\\\\\"))\\\\n\\\\n  def test_non_palindrome_mixed_case(self):\\\\n    \\\\\\\"\\\\\\\"\\\\\\\"Test with a non-palindrome in mixed case.\\\\\\\"\\\\\\\"\\\\\\\"\\\\n    self.assertFalse(is_palindrome(\\\\\\\"HeLlO\\\\\\\"))\\\\n\\\\n  def test_palindrome_with_non_alphanumeric(self):\\\\n    \\\\\\\"\\\\\\\"\\\\\\\"Test with a palindrome containing non-alphanumeric characters.\\\\\\\"\\\\\\\"\\\\\\\"\\\\n    self.assertTrue(is_palindrome(\\\\\\\"A man, a plan, a canal: Panama\\\\\\\"))\\\\n\\\\n  def test_non_palindrome_with_non_alphanumeric(self):\\\\n    \\\\\\\"\\\\\\\"\\\\\\\"Test with a non-palindrome containing non-alphanumeric characters.\\\\\\\"\\\\\\\"\\\\\\\"\\\\n    self.assertFalse(is_palindrome(\\\\\\\"This is not a palindrome.\\\\\\\"))\\\\n\\\\nif __name__ == '__main__':\\\\n  unittest.main()\\\\n```\\\\n\\\\n**Explanation:**\\\\n\\\\n1. **Import `unittest`:** The `unittest` module is imported for writing and running unit tests.\\\\n2. **Create a Test Class:** A test class `TestPalindrome` is defined, inheriting from `unittest.TestCase`.\\\\n3. **Define Test Methods:** Each test case is implemented as a method within the class. Each method name starts with `test_` to be recognized as a test by `unittest`.\\\\n4. **Assertions:** Inside each test method, assertions are used to check the expected outcome. The `self.assertTrue()` method checks if the result of the `is_palindrome()` function matches the expected outcome for palindrome words. The `self.assertFalse()` method is used for non-palindrome words.\\\\n5. **Test Cases:** Ten different unit tests are written to cover various scenarios:\\\\n   - Empty string\\\\n   - Single character\\\\n   - Palindrome in lowercase\\\\n   - Palindrome in uppercase\\\\n   - Palindrome in mixed case\\\\n   - Non-palindrome in lowercase\\\\n   - Non-palindrome in uppercase\\\\n   - Non-palindrome in mixed case\\\\n   - Palindrome with non-alphanumeric characters\\\\n   - Non-palindrome with non-alphanumeric characters\\\\n6. **Run Tests:** The `unittest.main()` function runs the tests when the script is executed. \\\\n\\\\nThis set of unit tests ensures that the `is_palindrome()` function correctly handles different input cases, including empty strings, single characters, various cases, and non-alphanumeric characters. \\\\n\"\n",
            "            }\n",
            "        ]\n",
            "    }\n",
            "]\n"
          ]
        }
      ],
      "source": [
        "# import necessary modules.\n",
        "import base64\n",
        "import copy\n",
        "import json\n",
        "import pathlib\n",
        "import requests\n",
        "\n",
        "\n",
        "import PIL.Image\n",
        "import IPython.display\n",
        "from IPython.display import Markdown\n",
        "\n",
        "try:\n",
        "    # The SDK will automatically read it from the GOOGLE_API_KEY environment variable.\n",
        "    # In Colab get the key from Colab-secrets (\"🔑\" in the left panel).\n",
        "    import os\n",
        "    from google.colab import userdata\n",
        "\n",
        "    os.environ[\"GOOGLE_API_KEY\"] = userdata.get(\"GOOGLE_API_KEY\")\n",
        "except ImportError:\n",
        "    pass\n",
        "\n",
        "import google.generativeai as genai\n",
        "\n",
        "# Parse the arguments\n",
        "\n",
        "model = 'gemini-1.5-flash' # @param {isTemplate: true}\n",
        "contents_b64 = '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' # @param {isTemplate: true}\n",
        "generation_config_b64 = 'eyJ0ZW1wZXJhdHVyZSI6MSwidG9wX3AiOjAuOTUsInRvcF9rIjo2NCwibWF4X291dHB1dF90b2tlbnMiOjgxOTJ9' # @param {isTemplate: true}\n",
        "safety_settings_b64 = \"e30=\"  # @param {isTemplate: true}\n",
        "\n",
        "gais_contents = json.loads(base64.b64decode(contents_b64))\n",
        "\n",
        "generation_config = json.loads(base64.b64decode(generation_config_b64))\n",
        "safety_settings = json.loads(base64.b64decode(safety_settings_b64))\n",
        "\n",
        "stream = False\n",
        "\n",
        "# Convert and upload the files\n",
        "\n",
        "tempfiles = pathlib.Path(f\"tempfiles\")\n",
        "tempfiles.mkdir(parents=True, exist_ok=True)\n",
        "\n",
        "\n",
        "drive = None\n",
        "def upload_file_data(file_data, index):\n",
        "    \"\"\"Upload files to the Files API.\n",
        "\n",
        "    For each file, Google AI Studio either sent:\n",
        "    - a Google Drive ID,\n",
        "    - a URL,\n",
        "    - a file path, or\n",
        "    - The raw bytes (`inline_data`).\n",
        "\n",
        "    The API only understands `inline_data` or it's Files API.\n",
        "    This code, uploads files to the files API where the API can access them.\n",
        "    \"\"\"\n",
        "\n",
        "    mime_type = file_data[\"mime_type\"]\n",
        "    if drive_id := file_data.pop(\"drive_id\", None):\n",
        "        if drive is None:\n",
        "          from google.colab import drive\n",
        "          drive.mount(\"/gdrive\")\n",
        "\n",
        "        path = next(\n",
        "            pathlib.Path(f\"/gdrive/.shortcut-targets-by-id/{drive_id}\").glob(\"*\")\n",
        "        )\n",
        "        print(\"Uploading:\", str(path))\n",
        "        file_info = genai.upload_file(path=path, mime_type=mime_type)\n",
        "        file_data[\"file_uri\"] = file_info.uri\n",
        "        return\n",
        "\n",
        "    if url := file_data.pop(\"url\", None):\n",
        "        response = requests.get(url)\n",
        "        data = response.content\n",
        "        name = url.split(\"/\")[-1]\n",
        "        path = tempfiles / str(index)\n",
        "        path.write_bytes(data)\n",
        "        print(\"Uploading:\", url)\n",
        "        file_info = genai.upload_file(path, display_name=name, mime_type=mime_type)\n",
        "        file_data[\"file_uri\"] = file_info.uri\n",
        "        return\n",
        "\n",
        "    if name := file_data.get(\"filename\", None):\n",
        "        if not pathlib.Path(name).exists():\n",
        "            raise IOError(\n",
        "                f\"local file: `{name}` does not exist. You can upload files \"\n",
        "                'to Colab using the file manager (\"📁 Files\" in the left '\n",
        "                \"toolbar)\"\n",
        "            )\n",
        "        file_info = genai.upload_file(path, display_name=name, mime_type=mime_type)\n",
        "        file_data[\"file_uri\"] = file_info.uri\n",
        "        return\n",
        "\n",
        "    if \"inline_data\" in file_data:\n",
        "        return\n",
        "\n",
        "    raise ValueError(\"Either `drive_id`, `url` or `inline_data` must be provided.\")\n",
        "\n",
        "\n",
        "contents = copy.deepcopy(gais_contents)\n",
        "\n",
        "index = 0\n",
        "for content in contents:\n",
        "    for n, part in enumerate(content[\"parts\"]):\n",
        "        if file_data := part.get(\"file_data\", None):\n",
        "            upload_file_data(file_data, index)\n",
        "            index += 1\n",
        "\n",
        "import json\n",
        "print(json.dumps(contents, indent=4))"
      ]
    },
    {
      "cell_type": "markdown",
      "metadata": {
        "id": "E7zAD69vE92b"
      },
      "source": [
        "## Call `generate_content`"
      ]
    },
    {
      "cell_type": "code",
      "execution_count": 3,
      "metadata": {
        "id": "LB2LxPmAB95V",
        "colab": {
          "base_uri": "https://localhost:8080/",
          "height": 46
        },
        "outputId": "62cc504c-c561-42f3-be28-efc250d9eb4f"
      },
      "outputs": [
        {
          "output_type": "display_data",
          "data": {
            "text/plain": [
              "<IPython.core.display.Markdown object>"
            ],
            "text/markdown": "This ensures that the function is robust and reliable for any input word.\n"
          },
          "metadata": {}
        }
      ],
      "source": [
        "from IPython.display import display\n",
        "from IPython.display import Markdown\n",
        "\n",
        "# Call the model and print the response.\n",
        "gemini = genai.GenerativeModel(model_name=model)\n",
        "\n",
        "response = gemini.generate_content(\n",
        "    contents,\n",
        "    generation_config=generation_config,\n",
        "    safety_settings=safety_settings,\n",
        "    stream=stream,\n",
        ")\n",
        "\n",
        "display(Markdown(response.text))"
      ]
    },
    {
      "cell_type": "markdown",
      "metadata": {
        "id": "9c9d345e9868"
      },
      "source": [
        "<table class=\"tfo-notebook-buttons\" align=\"left\">\n",
        "  <td>\n",
        "    <a target=\"_blank\" href=\"https://ai.google.dev/gemini-api/docs\"><img src=\"https://ai.google.dev/static/site-assets/images/docs/notebook-site-button.png\" height=\"32\" width=\"32\" />Docs on ai.google.dev</a>\n",
        "  </td>\n",
        "  <td>\n",
        "    <a target=\"_blank\" href=\"https://github.com/google-gemini/cookbook/blob/main/quickstarts\"><img src=\"https://www.tensorflow.org/images/GitHub-Mark-32px.png\" />More notebooks in the Cookbook</a>\n",
        "  </td>\n",
        "</table>"
      ]
    },
    {
      "cell_type": "markdown",
      "metadata": {
        "id": "F91AeeGO1ncU"
      },
      "source": [
        "## [optional] Show the conversation\n",
        "\n",
        "This section displays the conversation received from Google AI Studio."
      ]
    },
    {
      "cell_type": "code",
      "execution_count": 4,
      "metadata": {
        "id": "yoL3p3KPylFW",
        "colab": {
          "base_uri": "https://localhost:8080/"
        },
        "outputId": "65875f96-b504-42dc-e092-3dff91ff14f3"
      },
      "outputs": [
        {
          "output_type": "stream",
          "name": "stdout",
          "text": [
            "Role: user \n",
            "\n",
            "Here's a Python function that checks whether a word is a palindrome.\\nAdd 10 different unit tests for this snippet with comments. Follow up with a short explanation of what was done.\\n\\n\\n```\\ndef is_palindrome(word):\\n  \\\"\\\"\\\"\\n  Checks whether a word is a palindrome.\\n\\n  Args:\\n    word: The word to check.\\n\\n  Returns:\\n    True if the word is a palindrome, False otherwise.\\n  \\\"\\\"\\\"\\n\\n  # Convert the word to lowercase and remove non-alphanumeric characters.\\n  word = ''.join(char.lower() for char in word if char.isalnum())\\n\\n  # Check if the word is the same forwards and backwards.\\n  return word == word[::-1]\\n``` \n",
            "\n",
            "-------------------------------------------------------------------------------- \n",
            "\n",
            "Role: model \n",
            "\n",
            "```python\\ndef is_palindrome(word):\\n  \\\"\\\"\\\"\\n  Checks whether a word is a palindrome.\\n\\n  Args:\\n    word: The word to check.\\n\\n  Returns:\\n    True if the word is a palindrome, False otherwise.\\n  \\\"\\\"\\\"\\n\\n  # Convert the word to lowercase and remove non-alphanumeric characters.\\n  word = ''.join(char.lower() for char in word if char.isalnum())\\n\\n  # Check if the word is the same forwards and backwards.\\n  return word == word[::-1]\\n\\n# Unit Tests\\nimport unittest\\n\\nclass TestPalindrome(unittest.TestCase):\\n\\n  def test_empty_string(self):\\n    \\\"\\\"\\\"Test with an empty string.\\\"\\\"\\\"\\n    self.assertTrue(is_palindrome(\\\"\\\"))\\n\\n  def test_single_character(self):\\n    \\\"\\\"\\\"Test with a single character.\\\"\\\"\\\"\\n    self.assertTrue(is_palindrome(\\\"a\\\"))\\n\\n  def test_palindrome_lowercase(self):\\n    \\\"\\\"\\\"Test with a palindrome in lowercase.\\\"\\\"\\\"\\n    self.assertTrue(is_palindrome(\\\"racecar\\\"))\\n\\n  def test_palindrome_uppercase(self):\\n    \\\"\\\"\\\"Test with a palindrome in uppercase.\\\"\\\"\\\"\\n    self.assertTrue(is_palindrome(\\\"RACECAR\\\"))\\n\\n  def test_palindrome_mixed_case(self):\\n    \\\"\\\"\\\"Test with a palindrome in mixed case.\\\"\\\"\\\"\\n    self.assertTrue(is_palindrome(\\\"RaCeCaR\\\"))\\n\\n  def test_non_palindrome_lowercase(self):\\n    \\\"\\\"\\\"Test with a non-palindrome in lowercase.\\\"\\\"\\\"\\n    self.assertFalse(is_palindrome(\\\"hello\\\"))\\n\\n  def test_non_palindrome_uppercase(self):\\n    \\\"\\\"\\\"Test with a non-palindrome in uppercase.\\\"\\\"\\\"\\n    self.assertFalse(is_palindrome(\\\"WORLD\\\"))\\n\\n  def test_non_palindrome_mixed_case(self):\\n    \\\"\\\"\\\"Test with a non-palindrome in mixed case.\\\"\\\"\\\"\\n    self.assertFalse(is_palindrome(\\\"HeLlO\\\"))\\n\\n  def test_palindrome_with_non_alphanumeric(self):\\n    \\\"\\\"\\\"Test with a palindrome containing non-alphanumeric characters.\\\"\\\"\\\"\\n    self.assertTrue(is_palindrome(\\\"A man, a plan, a canal: Panama\\\"))\\n\\n  def test_non_palindrome_with_non_alphanumeric(self):\\n    \\\"\\\"\\\"Test with a non-palindrome containing non-alphanumeric characters.\\\"\\\"\\\"\\n    self.assertFalse(is_palindrome(\\\"This is not a palindrome.\\\"))\\n\\nif __name__ == '__main__':\\n  unittest.main()\\n```\\n\\n**Explanation:**\\n\\n1. **Import `unittest`:** The `unittest` module is imported for writing and running unit tests.\\n2. **Create a Test Class:** A test class `TestPalindrome` is defined, inheriting from `unittest.TestCase`.\\n3. **Define Test Methods:** Each test case is implemented as a method within the class. Each method name starts with `test_` to be recognized as a test by `unittest`.\\n4. **Assertions:** Inside each test method, assertions are used to check the expected outcome. The `self.assertTrue()` method checks if the result of the `is_palindrome()` function matches the expected outcome for palindrome words. The `self.assertFalse()` method is used for non-palindrome words.\\n5. **Test Cases:** Ten different unit tests are written to cover various scenarios:\\n   - Empty string\\n   - Single character\\n   - Palindrome in lowercase\\n   - Palindrome in uppercase\\n   - Palindrome in mixed case\\n   - Non-palindrome in lowercase\\n   - Non-palindrome in uppercase\\n   - Non-palindrome in mixed case\\n   - Palindrome with non-alphanumeric characters\\n   - Non-palindrome with non-alphanumeric characters\\n6. **Run Tests:** The `unittest.main()` function runs the tests when the script is executed. \\n\\nThis set of unit tests ensures that the `is_palindrome()` function correctly handles different input cases, including empty strings, single characters, various cases, and non-alphanumeric characters. \\n \n",
            "\n",
            "-------------------------------------------------------------------------------- \n",
            "\n"
          ]
        }
      ],
      "source": [
        "# @title Show the conversation, in colab.\n",
        "import mimetypes\n",
        "\n",
        "def show_file(file_data):\n",
        "    mime_type = file_data[\"mime_type\"]\n",
        "\n",
        "    if drive_id := file_data.get(\"drive_id\", None):\n",
        "        path = next(\n",
        "            pathlib.Path(f\"/gdrive/.shortcut-targets-by-id/{drive_id}\").glob(\"*\")\n",
        "        )\n",
        "        name = path\n",
        "        # data = path.read_bytes()\n",
        "        kwargs = {\"filename\": path}\n",
        "    elif url := file_data.get(\"url\", None):\n",
        "        name = url\n",
        "        kwargs = {\"url\": url}\n",
        "        # response = requests.get(url)\n",
        "        # data = response.content\n",
        "    elif data := file_data.get(\"inline_data\", None):\n",
        "        name = None\n",
        "        kwargs = {\"data\": data}\n",
        "    elif name := file_data.get(\"filename\", None):\n",
        "        if not pathlib.Path(name).exists():\n",
        "            raise IOError(\n",
        "                f\"local file: `{name}` does not exist. You can upload files to \"\n",
        "                'Colab using the file manager (\"📁 Files\"in the left toolbar)'\n",
        "            )\n",
        "    else:\n",
        "        raise ValueError(\"Either `drive_id`, `url` or `inline_data` must be provided.\")\n",
        "\n",
        "        print(f\"File:\\n    name: {name}\\n    mime_type: {mime_type}\\n\")\n",
        "        return\n",
        "\n",
        "    format = mimetypes.guess_extension(mime_type).strip(\".\")\n",
        "    if mime_type.startswith(\"image/\"):\n",
        "        image = IPython.display.Image(**kwargs, width=256)\n",
        "        IPython.display.display(image)\n",
        "        print()\n",
        "        return\n",
        "\n",
        "    if mime_type.startswith(\"audio/\"):\n",
        "        if len(data) < 2**12:\n",
        "            audio = IPython.display.Audio(**kwargs)\n",
        "            IPython.display.display(audio)\n",
        "            print()\n",
        "            return\n",
        "\n",
        "    if mime_type.startswith(\"video/\"):\n",
        "        if len(data) < 2**12:\n",
        "            audio = IPython.display.Video(**kwargs, mimetype=mime_type)\n",
        "            IPython.display.display(audio)\n",
        "            print()\n",
        "            return\n",
        "\n",
        "    print(f\"File:\\n    name: {name}\\n    mime_type: {mime_type}\\n\")\n",
        "\n",
        "\n",
        "for content in gais_contents:\n",
        "    if role := content.get(\"role\", None):\n",
        "        print(\"Role:\", role, \"\\n\")\n",
        "\n",
        "    for n, part in enumerate(content[\"parts\"]):\n",
        "        if text := part.get(\"text\", None):\n",
        "            print(text, \"\\n\")\n",
        "\n",
        "        elif file_data := part.get(\"file_data\", None):\n",
        "            show_file(file_data)\n",
        "\n",
        "    print(\"-\" * 80, \"\\n\")"
      ]
    }
  ],
  "metadata": {
    "colab": {
      "collapsed_sections": [
        "Tce3stUlHN0L"
      ],
      "name": "aistudio_gemini_prompt_freeform.ipynb",
      "toc_visible": true,
      "provenance": [],
      "include_colab_link": true
    },
    "kernelspec": {
      "display_name": "Python 3",
      "name": "python3"
    }
  },
  "nbformat": 4,
  "nbformat_minor": 0
}